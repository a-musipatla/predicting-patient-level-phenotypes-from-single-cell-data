{
  "nbformat": 4,
  "nbformat_minor": 0,
  "metadata": {
    "colab": {
      "name": "final model.ipynb",
      "provenance": []
    },
    "kernelspec": {
      "name": "python3",
      "display_name": "Python 3"
    },
    "language_info": {
      "name": "python"
    },
    "accelerator": "GPU"
  },
  "cells": [
    {
      "cell_type": "code",
      "metadata": {
        "colab": {
          "base_uri": "https://localhost:8080/"
        },
        "id": "BcAXWaFv5v2k",
        "outputId": "d353f574-62c2-4bf7-bbf3-1299dc907985"
      },
      "source": [
        "from google.colab import drive\n",
        "drive.mount('/content/drive')\n",
        "\n",
        "import os\n",
        "\n",
        "# CHANGE TO YOUR DIRECTORY HERE\n",
        "PATH = '/content/drive/MyDrive/Spring 2021/coms4762/final'"
      ],
      "execution_count": 5,
      "outputs": [
        {
          "output_type": "stream",
          "text": [
            "Drive already mounted at /content/drive; to attempt to forcibly remount, call drive.mount(\"/content/drive\", force_remount=True).\n"
          ],
          "name": "stdout"
        }
      ]
    },
    {
      "cell_type": "code",
      "metadata": {
        "id": "BhILkXY95-Rv"
      },
      "source": [
        ""
      ],
      "execution_count": 5,
      "outputs": []
    },
    {
      "cell_type": "code",
      "metadata": {
        "colab": {
          "base_uri": "https://localhost:8080/"
        },
        "id": "JTd5ZPVtzkAh",
        "outputId": "7e07e03b-7bbd-40df-b53b-d2a1b6253344"
      },
      "source": [
        "!git clone https://github.com/a-musipatla/predicting-patient-level-phenotypes-from-single-cell-data.git"
      ],
      "execution_count": 6,
      "outputs": [
        {
          "output_type": "stream",
          "text": [
            "Cloning into 'predicting-patient-level-phenotypes-from-single-cell-data'...\n",
            "remote: Enumerating objects: 405, done.\u001b[K\n",
            "remote: Counting objects: 100% (405/405), done.\u001b[K\n",
            "remote: Compressing objects: 100% (272/272), done.\u001b[K\n",
            "remote: Total 405 (delta 203), reused 309 (delta 120), pack-reused 0\u001b[K\n",
            "Receiving objects: 100% (405/405), 10.34 MiB | 15.67 MiB/s, done.\n",
            "Resolving deltas: 100% (203/203), done.\n"
          ],
          "name": "stdout"
        }
      ]
    },
    {
      "cell_type": "code",
      "metadata": {
        "id": "jy_p3_jKztZL"
      },
      "source": [
        "import os\n",
        "os.chdir('./predicting-patient-level-phenotypes-from-single-cell-data')"
      ],
      "execution_count": 7,
      "outputs": []
    },
    {
      "cell_type": "code",
      "metadata": {
        "id": "NmiVNuAZ1n3d"
      },
      "source": [
        "!mkdir models"
      ],
      "execution_count": 8,
      "outputs": []
    },
    {
      "cell_type": "code",
      "metadata": {
        "colab": {
          "base_uri": "https://localhost:8080/"
        },
        "id": "9DB_w93t4Tgg",
        "outputId": "aba4e209-3d06-44a6-d4f2-469bb2fefe52"
      },
      "source": [
        "!sudo apt-get install build-essential git swig python-dev\n",
        "!pip install cytoflow"
      ],
      "execution_count": 9,
      "outputs": [
        {
          "output_type": "stream",
          "text": [
            "Reading package lists... Done\n",
            "Building dependency tree       \n",
            "Reading state information... Done\n",
            "build-essential is already the newest version (12.4ubuntu1).\n",
            "python-dev is already the newest version (2.7.15~rc1-1).\n",
            "swig is already the newest version (3.0.12-1).\n",
            "git is already the newest version (1:2.17.1-1ubuntu0.8).\n",
            "0 upgraded, 0 newly installed, 0 to remove and 34 not upgraded.\n",
            "Requirement already satisfied: cytoflow in /usr/local/lib/python3.7/dist-packages (1.1.1)\n",
            "Requirement already satisfied: pandas==1.2.1 in /usr/local/lib/python3.7/dist-packages (from cytoflow) (1.2.1)\n",
            "Requirement already satisfied: pyopengl==3.1.1a1 in /usr/local/lib/python3.7/dist-packages (from cytoflow) (3.1.1a1)\n",
            "Requirement already satisfied: statsmodels==0.12.1 in /usr/local/lib/python3.7/dist-packages (from cytoflow) (0.12.1)\n",
            "Requirement already satisfied: python-dateutil==2.8.1 in /usr/local/lib/python3.7/dist-packages (from cytoflow) (2.8.1)\n",
            "Requirement already satisfied: nbformat==5.0.8 in /usr/local/lib/python3.7/dist-packages (from cytoflow) (5.0.8)\n",
            "Requirement already satisfied: numexpr==2.7.2 in /usr/local/lib/python3.7/dist-packages (from cytoflow) (2.7.2)\n",
            "Requirement already satisfied: camel==0.1.2 in /usr/local/lib/python3.7/dist-packages (from cytoflow) (0.1.2)\n",
            "Requirement already satisfied: traitsui==7.1.1 in /usr/local/lib/python3.7/dist-packages (from cytoflow) (7.1.1)\n",
            "Requirement already satisfied: numpy==1.19.2 in /usr/local/lib/python3.7/dist-packages (from cytoflow) (1.19.2)\n",
            "Requirement already satisfied: natsort==7.1.1 in /usr/local/lib/python3.7/dist-packages (from cytoflow) (7.1.1)\n",
            "Requirement already satisfied: fcsparser==0.2.1 in /usr/local/lib/python3.7/dist-packages (from cytoflow) (0.2.1)\n",
            "Requirement already satisfied: scipy==1.6.0 in /usr/local/lib/python3.7/dist-packages (from cytoflow) (1.6.0)\n",
            "Requirement already satisfied: seaborn==0.11.1 in /usr/local/lib/python3.7/dist-packages (from cytoflow) (0.11.1)\n",
            "Requirement already satisfied: pyface==7.2.0 in /usr/local/lib/python3.7/dist-packages (from cytoflow) (7.2.0)\n",
            "Requirement already satisfied: yapf==0.30.0 in /usr/local/lib/python3.7/dist-packages (from cytoflow) (0.30.0)\n",
            "Requirement already satisfied: importlib-resources==5.1.0 in /usr/local/lib/python3.7/dist-packages (from cytoflow) (5.1.0)\n",
            "Requirement already satisfied: bottleneck==1.3.2 in /usr/local/lib/python3.7/dist-packages (from cytoflow) (1.3.2)\n",
            "Requirement already satisfied: matplotlib==3.3.2 in /usr/local/lib/python3.7/dist-packages (from cytoflow) (3.3.2)\n",
            "Requirement already satisfied: traits==6.2.0 in /usr/local/lib/python3.7/dist-packages (from cytoflow) (6.2.0)\n",
            "Requirement already satisfied: envisage==5.0.0 in /usr/local/lib/python3.7/dist-packages (from cytoflow) (5.0.0)\n",
            "Requirement already satisfied: scikit-learn==0.23.2 in /usr/local/lib/python3.7/dist-packages (from cytoflow) (0.23.2)\n",
            "Requirement already satisfied: pytz>=2017.3 in /usr/local/lib/python3.7/dist-packages (from pandas==1.2.1->cytoflow) (2018.9)\n",
            "Requirement already satisfied: patsy>=0.5 in /usr/local/lib/python3.7/dist-packages (from statsmodels==0.12.1->cytoflow) (0.5.1)\n",
            "Requirement already satisfied: six>=1.5 in /usr/local/lib/python3.7/dist-packages (from python-dateutil==2.8.1->cytoflow) (1.15.0)\n",
            "Requirement already satisfied: jsonschema!=2.5.0,>=2.4 in /usr/local/lib/python3.7/dist-packages (from nbformat==5.0.8->cytoflow) (2.6.0)\n",
            "Requirement already satisfied: jupyter-core in /usr/local/lib/python3.7/dist-packages (from nbformat==5.0.8->cytoflow) (4.7.1)\n",
            "Requirement already satisfied: traitlets>=4.1 in /usr/local/lib/python3.7/dist-packages (from nbformat==5.0.8->cytoflow) (5.0.5)\n",
            "Requirement already satisfied: ipython-genutils in /usr/local/lib/python3.7/dist-packages (from nbformat==5.0.8->cytoflow) (0.2.0)\n",
            "Requirement already satisfied: pyyaml in /usr/local/lib/python3.7/dist-packages (from camel==0.1.2->cytoflow) (3.13)\n",
            "Requirement already satisfied: setuptools in /usr/local/lib/python3.7/dist-packages (from fcsparser==0.2.1->cytoflow) (56.0.0)\n",
            "Requirement already satisfied: importlib-metadata in /usr/local/lib/python3.7/dist-packages (from pyface==7.2.0->cytoflow) (3.10.1)\n",
            "Requirement already satisfied: zipp>=0.4; python_version < \"3.8\" in /usr/local/lib/python3.7/dist-packages (from importlib-resources==5.1.0->cytoflow) (3.4.1)\n",
            "Requirement already satisfied: pillow>=6.2.0 in /usr/local/lib/python3.7/dist-packages (from matplotlib==3.3.2->cytoflow) (7.1.2)\n",
            "Requirement already satisfied: pyparsing!=2.0.4,!=2.1.2,!=2.1.6,>=2.0.3 in /usr/local/lib/python3.7/dist-packages (from matplotlib==3.3.2->cytoflow) (2.4.7)\n",
            "Requirement already satisfied: kiwisolver>=1.0.1 in /usr/local/lib/python3.7/dist-packages (from matplotlib==3.3.2->cytoflow) (1.3.1)\n",
            "Requirement already satisfied: cycler>=0.10 in /usr/local/lib/python3.7/dist-packages (from matplotlib==3.3.2->cytoflow) (0.10.0)\n",
            "Requirement already satisfied: certifi>=2020.06.20 in /usr/local/lib/python3.7/dist-packages (from matplotlib==3.3.2->cytoflow) (2020.12.5)\n",
            "Requirement already satisfied: apptools in /usr/local/lib/python3.7/dist-packages (from envisage==5.0.0->cytoflow) (5.1.0)\n",
            "Requirement already satisfied: joblib>=0.11 in /usr/local/lib/python3.7/dist-packages (from scikit-learn==0.23.2->cytoflow) (1.0.1)\n",
            "Requirement already satisfied: threadpoolctl>=2.0.0 in /usr/local/lib/python3.7/dist-packages (from scikit-learn==0.23.2->cytoflow) (2.1.0)\n",
            "Requirement already satisfied: typing-extensions>=3.6.4; python_version < \"3.8\" in /usr/local/lib/python3.7/dist-packages (from importlib-metadata->pyface==7.2.0->cytoflow) (3.7.4.3)\n",
            "Requirement already satisfied: configobj in /usr/local/lib/python3.7/dist-packages (from apptools->envisage==5.0.0->cytoflow) (5.0.6)\n"
          ],
          "name": "stdout"
        }
      ]
    },
    {
      "cell_type": "code",
      "metadata": {
        "colab": {
          "base_uri": "https://localhost:8080/"
        },
        "id": "h5yOdAbmzr8x",
        "outputId": "0c8f509b-83a7-47d6-fc72-43cd6481cc6c"
      },
      "source": [
        "!python scripts/dnn/bcell_driver.py -v --pca 20 -b 256 -vs 0.05 -f 1 -mp params/final.json --model_filename ./models/final_model"
      ],
      "execution_count": null,
      "outputs": [
        {
          "output_type": "stream",
          "text": [
            "2021-04-24 17:43:26.476492: I tensorflow/stream_executor/platform/default/dso_loader.cc:49] Successfully opened dynamic library libcudart.so.11.0\n",
            "\n",
            "\n",
            "Number of channels:  41\n",
            "Channels in this experiment: \n",
            " ['103-Viability', '110-CD3', '110_114-CD3', '111-CD3', '112-CD3', '114-CD3', '115-CD45', '139-CD45RA', '141-pPLCgamma2', '142-CD19', '144-CD11b', '145-CD4', '146-CD8', '147-CD20', '148-CD34', '150-pSTAT5', '151-pERK1/2', '152-Ki67', '153-pMAPKAPK2', '154-pSHP2', '156-pZAP70/Syk', '158-CD33', '159-pSTAT3', '160-CD123', '164-pSLP-76', '165-pNFkB', '166-IkBalpha', '167-CD38', '168-pH3', '169-pP38', '170-CD90', '171-pBtk/Itk', '172-pS6', '174-pSrcFK', '175-pCrkL', '176-pCREB', '191-DNA', '193-DNA', 'Cell Length', 'EventNum', 'Time']\n",
            "\n",
            "\n",
            "\n",
            "\n",
            "Information on the cytometry measurement dataframe:\n",
            "<bound method NDFrame.head of         103-Viability  ...  bcr\n",
            "0           13.887588  ...  0.0\n",
            "1            7.953281  ...  0.0\n",
            "2           75.394386  ...  0.0\n",
            "3           44.809139  ...  0.0\n",
            "4           80.057510  ...  0.0\n",
            "...               ...  ...  ...\n",
            "823696      30.194551  ...  1.0\n",
            "823697      18.383575  ...  1.0\n",
            "823698      25.359880  ...  1.0\n",
            "823699       1.220421  ...  1.0\n",
            "823700      12.433750  ...  1.0\n",
            "\n",
            "[823701 rows x 39 columns]>\n",
            "103-Viability     float64\n",
            "110-CD3           float64\n",
            "110_114-CD3       float64\n",
            "111-CD3           float64\n",
            "112-CD3           float64\n",
            "114-CD3           float64\n",
            "115-CD45          float64\n",
            "139-CD45RA        float64\n",
            "141-pPLCgamma2    float64\n",
            "142-CD19          float64\n",
            "144-CD11b         float64\n",
            "145-CD4           float64\n",
            "146-CD8           float64\n",
            "147-CD20          float64\n",
            "148-CD34          float64\n",
            "150-pSTAT5        float64\n",
            "151-pERK1/2       float64\n",
            "152-Ki67          float64\n",
            "153-pMAPKAPK2     float64\n",
            "154-pSHP2         float64\n",
            "156-pZAP70/Syk    float64\n",
            "158-CD33          float64\n",
            "159-pSTAT3        float64\n",
            "160-CD123         float64\n",
            "164-pSLP-76       float64\n",
            "165-pNFkB         float64\n",
            "166-IkBalpha      float64\n",
            "167-CD38          float64\n",
            "168-pH3           float64\n",
            "169-pP38          float64\n",
            "170-CD90          float64\n",
            "171-pBtk/Itk      float64\n",
            "172-pS6           float64\n",
            "174-pSrcFK        float64\n",
            "175-pCrkL         float64\n",
            "176-pCREB         float64\n",
            "191-DNA           float64\n",
            "193-DNA           float64\n",
            "bcr               float64\n",
            "dtype: object\n",
            "\n",
            "\n",
            "2021-04-24 17:43:34.607507: I tensorflow/compiler/jit/xla_cpu_device.cc:41] Not creating XLA devices, tf_xla_enable_xla_devices not set\n",
            "2021-04-24 17:43:34.608751: I tensorflow/stream_executor/platform/default/dso_loader.cc:49] Successfully opened dynamic library libcuda.so.1\n",
            "2021-04-24 17:43:34.664731: I tensorflow/stream_executor/cuda/cuda_gpu_executor.cc:941] successful NUMA node read from SysFS had negative value (-1), but there must be at least one NUMA node, so returning NUMA node zero\n",
            "2021-04-24 17:43:34.665394: I tensorflow/core/common_runtime/gpu/gpu_device.cc:1720] Found device 0 with properties: \n",
            "pciBusID: 0000:00:04.0 name: Tesla T4 computeCapability: 7.5\n",
            "coreClock: 1.59GHz coreCount: 40 deviceMemorySize: 14.75GiB deviceMemoryBandwidth: 298.08GiB/s\n",
            "2021-04-24 17:43:34.665459: I tensorflow/stream_executor/platform/default/dso_loader.cc:49] Successfully opened dynamic library libcudart.so.11.0\n",
            "2021-04-24 17:43:34.727231: I tensorflow/stream_executor/platform/default/dso_loader.cc:49] Successfully opened dynamic library libcublas.so.11\n",
            "2021-04-24 17:43:34.727378: I tensorflow/stream_executor/platform/default/dso_loader.cc:49] Successfully opened dynamic library libcublasLt.so.11\n",
            "2021-04-24 17:43:34.868022: I tensorflow/stream_executor/platform/default/dso_loader.cc:49] Successfully opened dynamic library libcufft.so.10\n",
            "2021-04-24 17:43:34.929766: I tensorflow/stream_executor/platform/default/dso_loader.cc:49] Successfully opened dynamic library libcurand.so.10\n",
            "2021-04-24 17:43:35.157787: I tensorflow/stream_executor/platform/default/dso_loader.cc:49] Successfully opened dynamic library libcusolver.so.10\n",
            "2021-04-24 17:43:35.208607: I tensorflow/stream_executor/platform/default/dso_loader.cc:49] Successfully opened dynamic library libcusparse.so.11\n",
            "2021-04-24 17:43:35.213421: I tensorflow/stream_executor/platform/default/dso_loader.cc:49] Successfully opened dynamic library libcudnn.so.8\n",
            "2021-04-24 17:43:35.213595: I tensorflow/stream_executor/cuda/cuda_gpu_executor.cc:941] successful NUMA node read from SysFS had negative value (-1), but there must be at least one NUMA node, so returning NUMA node zero\n",
            "2021-04-24 17:43:35.214314: I tensorflow/stream_executor/cuda/cuda_gpu_executor.cc:941] successful NUMA node read from SysFS had negative value (-1), but there must be at least one NUMA node, so returning NUMA node zero\n",
            "2021-04-24 17:43:35.217642: I tensorflow/core/common_runtime/gpu/gpu_device.cc:1862] Adding visible gpu devices: 0\n",
            "2021-04-24 17:43:35.218389: I tensorflow/compiler/jit/xla_gpu_device.cc:99] Not creating XLA devices, tf_xla_enable_xla_devices not set\n",
            "2021-04-24 17:43:35.218528: I tensorflow/stream_executor/cuda/cuda_gpu_executor.cc:941] successful NUMA node read from SysFS had negative value (-1), but there must be at least one NUMA node, so returning NUMA node zero\n",
            "2021-04-24 17:43:35.219132: I tensorflow/core/common_runtime/gpu/gpu_device.cc:1720] Found device 0 with properties: \n",
            "pciBusID: 0000:00:04.0 name: Tesla T4 computeCapability: 7.5\n",
            "coreClock: 1.59GHz coreCount: 40 deviceMemorySize: 14.75GiB deviceMemoryBandwidth: 298.08GiB/s\n",
            "2021-04-24 17:43:35.219205: I tensorflow/stream_executor/platform/default/dso_loader.cc:49] Successfully opened dynamic library libcudart.so.11.0\n",
            "2021-04-24 17:43:35.219248: I tensorflow/stream_executor/platform/default/dso_loader.cc:49] Successfully opened dynamic library libcublas.so.11\n",
            "2021-04-24 17:43:35.219283: I tensorflow/stream_executor/platform/default/dso_loader.cc:49] Successfully opened dynamic library libcublasLt.so.11\n",
            "2021-04-24 17:43:35.219313: I tensorflow/stream_executor/platform/default/dso_loader.cc:49] Successfully opened dynamic library libcufft.so.10\n",
            "2021-04-24 17:43:35.219342: I tensorflow/stream_executor/platform/default/dso_loader.cc:49] Successfully opened dynamic library libcurand.so.10\n",
            "2021-04-24 17:43:35.219367: I tensorflow/stream_executor/platform/default/dso_loader.cc:49] Successfully opened dynamic library libcusolver.so.10\n",
            "2021-04-24 17:43:35.219394: I tensorflow/stream_executor/platform/default/dso_loader.cc:49] Successfully opened dynamic library libcusparse.so.11\n",
            "2021-04-24 17:43:35.219424: I tensorflow/stream_executor/platform/default/dso_loader.cc:49] Successfully opened dynamic library libcudnn.so.8\n",
            "2021-04-24 17:43:35.219504: I tensorflow/stream_executor/cuda/cuda_gpu_executor.cc:941] successful NUMA node read from SysFS had negative value (-1), but there must be at least one NUMA node, so returning NUMA node zero\n",
            "2021-04-24 17:43:35.220450: I tensorflow/stream_executor/cuda/cuda_gpu_executor.cc:941] successful NUMA node read from SysFS had negative value (-1), but there must be at least one NUMA node, so returning NUMA node zero\n",
            "2021-04-24 17:43:35.221250: I tensorflow/core/common_runtime/gpu/gpu_device.cc:1862] Adding visible gpu devices: 0\n",
            "2021-04-24 17:43:35.223798: I tensorflow/stream_executor/platform/default/dso_loader.cc:49] Successfully opened dynamic library libcudart.so.11.0\n",
            "2021-04-24 17:43:39.667801: I tensorflow/core/common_runtime/gpu/gpu_device.cc:1261] Device interconnect StreamExecutor with strength 1 edge matrix:\n",
            "2021-04-24 17:43:39.667855: I tensorflow/core/common_runtime/gpu/gpu_device.cc:1267]      0 \n",
            "2021-04-24 17:43:39.667875: I tensorflow/core/common_runtime/gpu/gpu_device.cc:1280] 0:   N \n",
            "2021-04-24 17:43:39.674454: I tensorflow/stream_executor/cuda/cuda_gpu_executor.cc:941] successful NUMA node read from SysFS had negative value (-1), but there must be at least one NUMA node, so returning NUMA node zero\n",
            "2021-04-24 17:43:39.675152: I tensorflow/stream_executor/cuda/cuda_gpu_executor.cc:941] successful NUMA node read from SysFS had negative value (-1), but there must be at least one NUMA node, so returning NUMA node zero\n",
            "2021-04-24 17:43:39.675760: I tensorflow/stream_executor/cuda/cuda_gpu_executor.cc:941] successful NUMA node read from SysFS had negative value (-1), but there must be at least one NUMA node, so returning NUMA node zero\n",
            "2021-04-24 17:43:39.676289: W tensorflow/core/common_runtime/gpu/gpu_bfc_allocator.cc:39] Overriding allow_growth setting because the TF_FORCE_GPU_ALLOW_GROWTH environment variable is set. Original config value was 0.\n",
            "2021-04-24 17:43:39.676344: I tensorflow/core/common_runtime/gpu/gpu_device.cc:1406] Created TensorFlow device (/job:localhost/replica:0/task:0/device:GPU:0 with 13994 MB memory) -> physical GPU (device: 0, name: Tesla T4, pci bus id: 0000:00:04.0, compute capability: 7.5)\n",
            "\n",
            "\n",
            "Tensor Dataset:\t <BatchDataset shapes: ((None, 20), (None,)), types: (tf.float64, tf.float64)>\n",
            "Information on the cytometry measurement tensors:\n",
            "Tensor shape:\t (1, 20)\n",
            "Features: [[ 4.53495634e+02  3.37313574e+04  1.95443593e+03  4.62535868e+02\n",
            "   1.22040158e+03  3.15793268e+02 -5.43165463e+02  4.55718556e+02\n",
            "  -1.87298311e+02 -1.13444760e+02  1.57317829e+01  2.25633601e+02\n",
            "   1.96550151e+02 -2.31901786e+02  3.34599302e+01  1.01656224e+02\n",
            "   5.48289353e+03 -5.89848179e+02 -1.40631156e+03  2.77151628e+02]], Target: [0.]\n",
            "\n",
            "\n",
            "Information on the cytometry measurement tensors:\n",
            "Tensor shape:\t (1, 20)\n",
            "Features: [[ 351.62645392  -11.45905988 -170.42124038  -75.74463621 -224.26939278\n",
            "   -71.87545757  201.91643812  -89.42170383   41.75885542   -6.05107082\n",
            "     2.33086051   32.99492085  -36.56375371   17.47838296   19.1814158\n",
            "    -0.79813821    1.67625739   -4.22333629  -16.07742247   -2.82306481]], Target: [1.]\n",
            "\n",
            "\n",
            "Information on the cytometry measurement tensors:\n",
            "Tensor shape:\t (1, 20)\n",
            "Features: [[ 787.71672874 -183.42753693  581.22683462  -34.94578392  -78.20973887\n",
            "   -50.48807867 -236.96477806  -89.78795089   21.21845642  -67.05278466\n",
            "     7.04701596   35.1514249    35.17517271   15.06055483  -28.65428197\n",
            "     4.89535568    6.54141876    9.48244125   -4.97522743   -5.69614089]], Target: [1.]\n",
            "\n",
            "\n",
            "Information on the cytometry measurement tensors:\n",
            "Tensor shape:\t (1, 20)\n",
            "Features: [[ 1.52663287e+03 -7.52008261e+01 -2.83107327e+02 -4.41934927e+01\n",
            "  -1.93813521e+02  1.52472062e+03 -1.66429684e+02 -1.12663345e+02\n",
            "   7.47714983e+01 -2.62800192e+02  4.39822023e+01  2.05679621e+02\n",
            "   1.32455230e+02  1.25878508e+02 -2.86251425e+01 -7.75401498e+00\n",
            "  -1.40168290e+00  5.24430189e-01 -3.99923359e+01 -7.27131165e+01]], Target: [1.]\n",
            "\n",
            "\n",
            "Information on the cytometry measurement tensors:\n",
            "Tensor shape:\t (1, 20)\n",
            "Features: [[ 284.96273333  194.32297402 -146.21510841  -78.11265223 -208.88464649\n",
            "   -67.17441775  -21.11148837  -69.72201092   48.96985433 -146.65618612\n",
            "    28.49100589  -34.14823369  -17.33314701   47.63414568  -19.52380175\n",
            "    -7.92216016   -7.32873436   -4.07388045  -17.20136904    2.57405258]], Target: [1.]\n",
            "\n",
            "\n",
            "\n",
            "\n",
            "Using 0.1 of all available data\n",
            "Holding out  0.1 of dataset for testing.\n",
            "Holding out  0.05 of dataset for validation.\n",
            "\n",
            "\n",
            "2021-04-24 17:43:41.489626: I tensorflow/compiler/mlir/mlir_graph_optimization_pass.cc:116] None of the MLIR optimization passes are enabled (registered 2)\n",
            "2021-04-24 17:43:41.491367: I tensorflow/core/platform/profile_utils/cpu_utils.cc:112] CPU Frequency: 2199995000 Hz\n",
            "Epoch 1/15\n",
            "2021-04-24 17:43:42.082284: I tensorflow/stream_executor/platform/default/dso_loader.cc:49] Successfully opened dynamic library libcublas.so.11\n",
            "2021-04-24 17:43:44.562152: I tensorflow/stream_executor/platform/default/dso_loader.cc:49] Successfully opened dynamic library libcublasLt.so.11\n",
            "   5555/Unknown - 15s 2ms/step - loss: 1.3363 - accuracy: 0.5619"
          ],
          "name": "stdout"
        }
      ]
    },
    {
      "cell_type": "code",
      "metadata": {
        "id": "nQ2wcn0b2Bt5"
      },
      "source": [
        ""
      ],
      "execution_count": null,
      "outputs": []
    }
  ]
}