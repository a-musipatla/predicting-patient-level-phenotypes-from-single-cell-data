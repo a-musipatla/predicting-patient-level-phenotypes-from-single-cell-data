{
 "cells": [
  {
   "cell_type": "markdown",
   "id": "completed-sheep",
   "metadata": {},
   "source": [
    "# Exploratory Data Analysis of B-Cell Data\n",
    "\n",
    "In this notebook we features and structure of B-cell data from the Dana Pe'er Lab of Computational Systems Biology. As part of their experiments, Pe’er et.al collected a B cell centric, mass cytometry dataset from human bone marrow. Their dataset includes records of multiple B cell cellular features, such as activation of regulatory sig-naling molecules, and phenotypic proteins.  We will be using their publicly available data of mass cytometry and scRNA-seq. \n",
    "\n",
    "For more information about the Dana Pe'er Lab and their Wanderlust algorithm: https://dpeerlab.github.io/dpeerlab-website/wanderlust.html\n",
    "\n",
    "Their publicly available B cell data: https://dpeerlab.github.io/dpeerlab-website/wanderlust-data.html"
   ]
  },
  {
   "cell_type": "markdown",
   "id": "concerned-precipitation",
   "metadata": {},
   "source": [
    "## Analyzing Flow Cytometry Data"
   ]
  },
  {
   "cell_type": "code",
   "execution_count": 1,
   "id": "comparative-treasury",
   "metadata": {},
   "outputs": [
    {
     "name": "stderr",
     "output_type": "stream",
     "text": [
      "Matplotlib is building the font cache; this may take a moment.\n"
     ]
    }
   ],
   "source": [
    "# data management\n",
    "import numpy as np\n",
    "import pandas as pd\n",
    "\n",
    "# flow cytometry libraries\n",
    "import FlowCytometryTools\n",
    "import FlowCal\n",
    "import cytoflow as flow"
   ]
  },
  {
   "cell_type": "markdown",
   "id": "confident-starter",
   "metadata": {},
   "source": [
    "Load in the b-cell data."
   ]
  },
  {
   "cell_type": "code",
   "execution_count": 16,
   "id": "successful-database",
   "metadata": {},
   "outputs": [
    {
     "name": "stdout",
     "output_type": "stream",
     "text": [
      "Channels in this experiment: \n",
      " ['103-Viability', '110-CD3', '110_114-CD3', '111-CD3', '112-CD3', '114-CD3', '115-CD45', '139-CD45RA', '141-pPLCgamma2', '142-CD19', '144-CD11b', '145-CD4', '146-CD8', '147-CD20', '148-CD34', '150-pSTAT5', '151-pERK1/2', '152-Ki67', '153-pMAPKAPK2', '154-pSHP2', '156-pZAP70/Syk', '158-CD33', '159-pSTAT3', '160-CD123', '164-pSLP-76', '165-pNFkB', '166-IkBalpha', '167-CD38', '168-pH3', '169-pP38', '170-CD90', '171-pBtk/Itk', '172-pS6', '174-pSrcFK', '175-pCrkL', '176-pCREB', '191-DNA', '193-DNA', 'Cell Length', 'EventNum', 'Time']\n"
     ]
    }
   ],
   "source": [
    "marrow_basal_file = '../data/B_cell_data/Marrow1_01_Basal1.fcs'\n",
    "marrow_bcr_file   = '../data/B_cell_data/Marrow1_06_BCR.fcs'\n",
    "\n",
    "# using the cytoflow package\n",
    "basal_tube = flow.Tube(file = marrow_basal_file,\n",
    "                  conditions = {'bcr' : 0.0})\n",
    "bcr_tube   = flow.Tube(file=marrow_bcr_file,\n",
    "                  conditions = {'bcr' : 1.0})\n",
    "\n",
    "import_op = flow.ImportOp(conditions = {'bcr' : 'float'},\n",
    "                          tubes = [basal_tube, bcr_tube])\n",
    "\n",
    "\n",
    "ex = import_op.apply()\n",
    "print(\"Channels in this experiment: \\n\", ex.channels)"
   ]
  },
  {
   "cell_type": "markdown",
   "id": "automated-firmware",
   "metadata": {},
   "source": [
    "Plot a channel on a histogram. "
   ]
  },
  {
   "cell_type": "code",
   "execution_count": 25,
   "id": "minus-railway",
   "metadata": {},
   "outputs": [
    {
     "data": {
      "image/png": "[encoded data removed]",
      "text/plain": [
       "<Figure size 324x216 with 1 Axes>"
      ]
     },
     "metadata": {},
     "output_type": "display_data"
    }
   ],
   "source": [
    "channel = '153-pMAPKAPK2'\n",
    "hist = flow.HistogramView(channel = channel,\n",
    "                          scale = 'logicle',\n",
    "                          huefacet = 'bcr')\n",
    "hist.plot(ex)"
   ]
  },
  {
   "cell_type": "code",
   "execution_count": null,
   "id": "verified-china",
   "metadata": {},
   "outputs": [],
   "source": []
  }
 ],
 "metadata": {
  "kernelspec": {
   "display_name": "Python 3",
   "language": "python",
   "name": "python3"
  },
  "language_info": {
   "codemirror_mode": {
    "name": "ipython",
    "version": 3
   },
   "file_extension": ".py",
   "mimetype": "text/x-python",
   "name": "python",
   "nbconvert_exporter": "python",
   "pygments_lexer": "ipython3",
   "version": "3.7.3"
  }
 },
 "nbformat": 4,
 "nbformat_minor": 5
}
