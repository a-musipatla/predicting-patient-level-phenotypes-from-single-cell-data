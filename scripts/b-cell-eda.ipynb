{
 "cells": [
  {
   "cell_type": "markdown",
   "id": "completed-sheep",
   "metadata": {},
   "source": [
    "# Exploratory Data Analysis of B-Cell Data\n",
    "\n",
    "In this notebook we features and structure of B-cell data from the Dana Pe'er Lab of Computational Systems Biology. As part of their experiments, Pe’er et.al collected a B cell centric, mass cytometry dataset from human bone marrow. Their dataset includes records of multiple B cell cellular features, such as activation of regulatory sig-naling molecules, and phenotypic proteins.  We will be using their publicly available data of mass cytometry and scRNA-seq. \n",
    "\n",
    "For more information about the Dana Pe'er Lab and their Wanderlust algorithm: https://dpeerlab.github.io/dpeerlab-website/wanderlust.html\n",
    "\n",
    "Their publicly available B cell data: https://dpeerlab.github.io/dpeerlab-website/wanderlust-data.html"
   ]
  },
  {
   "cell_type": "markdown",
   "id": "concerned-precipitation",
   "metadata": {},
   "source": [
    "## Analyzing Flow Cytometry Data"
   ]
  },
  {
   "cell_type": "code",
   "execution_count": null,
   "id": "comparative-treasury",
   "metadata": {},
   "outputs": [],
   "source": [
    "# data management\n",
    "import numpy as np\n",
    "import pandas as pd\n",
    "\n",
    "# flow cytometry libraries\n",
    "import FlowCytometryTools\n",
    "import FlowCal"
   ]
  },
  {
   "cell_type": "code",
   "execution_count": null,
   "id": "independent-range",
   "metadata": {},
   "outputs": [],
   "source": []
  }
 ],
 "metadata": {
  "kernelspec": {
   "display_name": "Python 3",
   "language": "python",
   "name": "python3"
  },
  "language_info": {
   "codemirror_mode": {
    "name": "ipython",
    "version": 3
   },
   "file_extension": ".py",
   "mimetype": "text/x-python",
   "name": "python",
   "nbconvert_exporter": "python",
   "pygments_lexer": "ipython3",
   "version": "3.7.3"
  }
 },
 "nbformat": 4,
 "nbformat_minor": 5
}
