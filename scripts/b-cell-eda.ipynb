{
 "cells": [
  {
   "cell_type": "markdown",
   "metadata": {},
   "source": [
    "# Exploratory Data Analysis of B-Cell Data\n",
    "\n",
    "In this notebook we features and structure of B-cell data from the Dana Pe'er Lab of Computational Systems Biology. As part of their experiments, Pe’er et.al collected a B cell centric, mass cytometry dataset from human bone marrow. Their dataset includes records of multiple B cell cellular features, such as activation of regulatory sig-naling molecules, and phenotypic proteins.  We will be using their publicly available data of mass cytometry and scRNA-seq. \n",
    "\n",
    "For more information about the Dana Pe'er Lab and their Wanderlust algorithm: https://dpeerlab.github.io/dpeerlab-website/wanderlust.html\n",
    "\n",
    "Their publicly available B cell data: https://dpeerlab.github.io/dpeerlab-website/wanderlust-data.html"
   ]
  },
  {
   "cell_type": "markdown",
   "metadata": {},
   "source": [
    "## Analyzing Flow Cytometry Data"
   ]
  },
  {
   "cell_type": "code",
   "execution_count": 1,
   "metadata": {},
   "outputs": [],
   "source": [
    "# data management\n",
    "import numpy as np\n",
    "import pandas as pd\n",
    "\n",
    "# flow cytometry libraries\n",
    "import FlowCytometryTools\n",
    "import FlowCal\n",
    "import cytoflow as flow"
   ]
  },
  {
   "cell_type": "markdown",
   "metadata": {},
   "source": [
    "Load in the b-cell data."
   ]
  },
  {
   "cell_type": "code",
   "execution_count": 2,
   "metadata": {},
   "outputs": [
    {
     "name": "stdout",
     "output_type": "stream",
     "text": [
      "Channels in this experiment: \n",
      " ['103-Viability', '110-CD3', '110_114-CD3', '111-CD3', '112-CD3', '114-CD3', '115-CD45', '139-CD45RA', '141-pPLCgamma2', '142-CD19', '144-CD11b', '145-CD4', '146-CD8', '147-CD20', '148-CD34', '150-pSTAT5', '151-pERK1/2', '152-Ki67', '153-pMAPKAPK2', '154-pSHP2', '156-pZAP70/Syk', '158-CD33', '159-pSTAT3', '160-CD123', '164-pSLP-76', '165-pNFkB', '166-IkBalpha', '167-CD38', '168-pH3', '169-pP38', '170-CD90', '171-pBtk/Itk', '172-pS6', '174-pSrcFK', '175-pCrkL', '176-pCREB', '191-DNA', '193-DNA', 'Cell Length', 'EventNum', 'Time']\n"
     ]
    }
   ],
   "source": [
    "marrow_basal_file = '../data/B_cell_data/Marrow1_01_Basal1.fcs'\n",
    "marrow_bcr_file   = '../data/B_cell_data/Marrow1_06_BCR.fcs'\n",
    "\n",
    "# using the cytoflow package\n",
    "basal_tube = flow.Tube(file = marrow_basal_file,\n",
    "                  conditions = {'bcr' : 0.0})\n",
    "bcr_tube   = flow.Tube(file=marrow_bcr_file,\n",
    "                  conditions = {'bcr' : 1.0})\n",
    "\n",
    "import_op = flow.ImportOp(conditions = {'bcr' : 'float'},\n",
    "                          tubes = [basal_tube, bcr_tube])\n",
    "\n",
    "\n",
    "ex = import_op.apply()\n",
    "print(\"Channels in this experiment: \\n\", ex.channels)"
   ]
  },
  {
   "cell_type": "markdown",
   "metadata": {},
   "source": [
    "Plot a channel on a histogram. "
   ]
  },
  {
   "cell_type": "code",
   "execution_count": 3,
   "metadata": {},
   "outputs": [
    {
     "data": {
      "image/png": "[encoded data removed]",
      "text/plain": [
       "<Figure size 324x216 with 1 Axes>"
      ]
     },
     "metadata": {},
     "output_type": "display_data"
    }
   ],
   "source": [
    "channel = '110-CD3'\n",
    "hist = flow.HistogramView(channel = channel,\n",
    "                          scale = 'logicle',\n",
    "                          huefacet = 'bcr')\n",
    "hist.plot(ex)"
   ]
  },
  {
   "cell_type": "code",
   "execution_count": 4,
   "metadata": {},
   "outputs": [
    {
     "data": {
      "image/png": "[encoded data removed]",
      "text/plain": [
       "<Figure size 324x216 with 1 Axes>"
      ]
     },
     "metadata": {},
     "output_type": "display_data"
    }
   ],
   "source": [
    "channel = 'Cell Length'\n",
    "hist = flow.HistogramView(channel = channel,\n",
    "                          scale = 'log',\n",
    "                          huefacet = 'bcr')\n",
    "hist.plot(ex)"
   ]
  },
  {
   "cell_type": "markdown",
   "metadata": {},
   "source": [
    "## EDA"
   ]
  },
  {
   "cell_type": "code",
   "execution_count": 5,
   "metadata": {},
   "outputs": [
    {
     "data": {
      "text/html": [
       "<div>\n",
       "<style scoped>\n",
       "    .dataframe tbody tr th:only-of-type {\n",
       "        vertical-align: middle;\n",
       "    }\n",
       "\n",
       "    .dataframe tbody tr th {\n",
       "        vertical-align: top;\n",
       "    }\n",
       "\n",
       "    .dataframe thead th {\n",
       "        text-align: right;\n",
       "    }\n",
       "</style>\n",
       "<table border=\"1\" class=\"dataframe\">\n",
       "  <thead>\n",
       "    <tr style=\"text-align: right;\">\n",
       "      <th></th>\n",
       "      <th>103-Viability</th>\n",
       "      <th>110-CD3</th>\n",
       "      <th>110_114-CD3</th>\n",
       "      <th>111-CD3</th>\n",
       "      <th>112-CD3</th>\n",
       "      <th>114-CD3</th>\n",
       "      <th>115-CD45</th>\n",
       "      <th>139-CD45RA</th>\n",
       "      <th>141-pPLCgamma2</th>\n",
       "      <th>142-CD19</th>\n",
       "      <th>...</th>\n",
       "      <th>172-pS6</th>\n",
       "      <th>174-pSrcFK</th>\n",
       "      <th>175-pCrkL</th>\n",
       "      <th>176-pCREB</th>\n",
       "      <th>191-DNA</th>\n",
       "      <th>193-DNA</th>\n",
       "      <th>Cell Length</th>\n",
       "      <th>EventNum</th>\n",
       "      <th>Time</th>\n",
       "      <th>bcr</th>\n",
       "    </tr>\n",
       "  </thead>\n",
       "  <tbody>\n",
       "    <tr>\n",
       "      <th>0</th>\n",
       "      <td>13.887588</td>\n",
       "      <td>45.619759</td>\n",
       "      <td>286.148224</td>\n",
       "      <td>33.936417</td>\n",
       "      <td>82.887451</td>\n",
       "      <td>102.236412</td>\n",
       "      <td>629.291260</td>\n",
       "      <td>111.086143</td>\n",
       "      <td>7.303391</td>\n",
       "      <td>116.630058</td>\n",
       "      <td>...</td>\n",
       "      <td>28.160339</td>\n",
       "      <td>42.226711</td>\n",
       "      <td>4.575513</td>\n",
       "      <td>14.610126</td>\n",
       "      <td>1467.694214</td>\n",
       "      <td>2652.224609</td>\n",
       "      <td>25.911442</td>\n",
       "      <td>1.0</td>\n",
       "      <td>5.0</td>\n",
       "      <td>0.0</td>\n",
       "    </tr>\n",
       "    <tr>\n",
       "      <th>1</th>\n",
       "      <td>7.953281</td>\n",
       "      <td>21.776331</td>\n",
       "      <td>162.107315</td>\n",
       "      <td>30.032499</td>\n",
       "      <td>51.942520</td>\n",
       "      <td>45.778927</td>\n",
       "      <td>465.365601</td>\n",
       "      <td>129.546188</td>\n",
       "      <td>9.622845</td>\n",
       "      <td>100.531303</td>\n",
       "      <td>...</td>\n",
       "      <td>9.575835</td>\n",
       "      <td>12.174552</td>\n",
       "      <td>3.819733</td>\n",
       "      <td>11.121452</td>\n",
       "      <td>1368.573486</td>\n",
       "      <td>2583.839844</td>\n",
       "      <td>32.389301</td>\n",
       "      <td>2.0</td>\n",
       "      <td>5.0</td>\n",
       "      <td>0.0</td>\n",
       "    </tr>\n",
       "    <tr>\n",
       "      <th>2</th>\n",
       "      <td>75.394386</td>\n",
       "      <td>-0.387244</td>\n",
       "      <td>4.361003</td>\n",
       "      <td>4.165413</td>\n",
       "      <td>-0.479078</td>\n",
       "      <td>0.530701</td>\n",
       "      <td>-2.788799</td>\n",
       "      <td>2.249059</td>\n",
       "      <td>10.519377</td>\n",
       "      <td>-0.107634</td>\n",
       "      <td>...</td>\n",
       "      <td>51.996456</td>\n",
       "      <td>8.899544</td>\n",
       "      <td>3.067984</td>\n",
       "      <td>6.971109</td>\n",
       "      <td>1069.697510</td>\n",
       "      <td>1955.083740</td>\n",
       "      <td>55.524521</td>\n",
       "      <td>3.0</td>\n",
       "      <td>8.0</td>\n",
       "      <td>0.0</td>\n",
       "    </tr>\n",
       "    <tr>\n",
       "      <th>3</th>\n",
       "      <td>44.809139</td>\n",
       "      <td>-1.397486</td>\n",
       "      <td>-0.166676</td>\n",
       "      <td>-3.483190</td>\n",
       "      <td>6.152699</td>\n",
       "      <td>-1.002166</td>\n",
       "      <td>268.233856</td>\n",
       "      <td>2.261043</td>\n",
       "      <td>-0.581778</td>\n",
       "      <td>-1.063074</td>\n",
       "      <td>...</td>\n",
       "      <td>-1.128529</td>\n",
       "      <td>75.601952</td>\n",
       "      <td>-2.499973</td>\n",
       "      <td>31.174557</td>\n",
       "      <td>783.372192</td>\n",
       "      <td>1189.282715</td>\n",
       "      <td>43.494209</td>\n",
       "      <td>4.0</td>\n",
       "      <td>12.0</td>\n",
       "      <td>0.0</td>\n",
       "    </tr>\n",
       "    <tr>\n",
       "      <th>4</th>\n",
       "      <td>80.057510</td>\n",
       "      <td>23.398191</td>\n",
       "      <td>154.321350</td>\n",
       "      <td>21.928640</td>\n",
       "      <td>38.587242</td>\n",
       "      <td>58.580956</td>\n",
       "      <td>37.195732</td>\n",
       "      <td>0.398052</td>\n",
       "      <td>2.439066</td>\n",
       "      <td>-1.307640</td>\n",
       "      <td>...</td>\n",
       "      <td>29.500183</td>\n",
       "      <td>136.892334</td>\n",
       "      <td>22.396849</td>\n",
       "      <td>13.471563</td>\n",
       "      <td>2712.169678</td>\n",
       "      <td>4481.430176</td>\n",
       "      <td>51.822887</td>\n",
       "      <td>5.0</td>\n",
       "      <td>19.0</td>\n",
       "      <td>0.0</td>\n",
       "    </tr>\n",
       "  </tbody>\n",
       "</table>\n",
       "<p>5 rows × 42 columns</p>\n",
       "</div>"
      ],
      "text/plain": [
       "   103-Viability    110-CD3  110_114-CD3    111-CD3    112-CD3     114-CD3  \\\n",
       "0      13.887588  45.619759   286.148224  33.936417  82.887451  102.236412   \n",
       "1       7.953281  21.776331   162.107315  30.032499  51.942520   45.778927   \n",
       "2      75.394386  -0.387244     4.361003   4.165413  -0.479078    0.530701   \n",
       "3      44.809139  -1.397486    -0.166676  -3.483190   6.152699   -1.002166   \n",
       "4      80.057510  23.398191   154.321350  21.928640  38.587242   58.580956   \n",
       "\n",
       "     115-CD45  139-CD45RA  141-pPLCgamma2    142-CD19  ...    172-pS6  \\\n",
       "0  629.291260  111.086143        7.303391  116.630058  ...  28.160339   \n",
       "1  465.365601  129.546188        9.622845  100.531303  ...   9.575835   \n",
       "2   -2.788799    2.249059       10.519377   -0.107634  ...  51.996456   \n",
       "3  268.233856    2.261043       -0.581778   -1.063074  ...  -1.128529   \n",
       "4   37.195732    0.398052        2.439066   -1.307640  ...  29.500183   \n",
       "\n",
       "   174-pSrcFK  175-pCrkL  176-pCREB      191-DNA      193-DNA  Cell Length  \\\n",
       "0   42.226711   4.575513  14.610126  1467.694214  2652.224609    25.911442   \n",
       "1   12.174552   3.819733  11.121452  1368.573486  2583.839844    32.389301   \n",
       "2    8.899544   3.067984   6.971109  1069.697510  1955.083740    55.524521   \n",
       "3   75.601952  -2.499973  31.174557   783.372192  1189.282715    43.494209   \n",
       "4  136.892334  22.396849  13.471563  2712.169678  4481.430176    51.822887   \n",
       "\n",
       "   EventNum  Time  bcr  \n",
       "0       1.0   5.0  0.0  \n",
       "1       2.0   5.0  0.0  \n",
       "2       3.0   8.0  0.0  \n",
       "3       4.0  12.0  0.0  \n",
       "4       5.0  19.0  0.0  \n",
       "\n",
       "[5 rows x 42 columns]"
      ]
     },
     "execution_count": 5,
     "metadata": {},
     "output_type": "execute_result"
    }
   ],
   "source": [
    "df = ex.data.copy()\n",
    "df.head()"
   ]
  },
  {
   "cell_type": "code",
   "execution_count": 6,
   "metadata": {},
   "outputs": [
    {
     "name": "stdout",
     "output_type": "stream",
     "text": [
      "Basal Percentage: 0.427\n",
      "BCR Percentage: 0.573\n",
      "total samples 823701\n"
     ]
    }
   ],
   "source": [
    "# Data split: \n",
    "print('Basal Percentage: %.3f' % (len(df[df['bcr'] == 0]) / len(df)))\n",
    "print('BCR Percentage: %.3f' % (len(df[df['bcr'] == 1]) / len(df)))\n",
    "print('total samples', len(df))"
   ]
  },
  {
   "cell_type": "code",
   "execution_count": null,
   "metadata": {},
   "outputs": [],
   "source": []
  },
  {
   "cell_type": "markdown",
   "metadata": {},
   "source": [
    "## Running simple logistic regression "
   ]
  },
  {
   "cell_type": "code",
   "execution_count": 7,
   "metadata": {},
   "outputs": [],
   "source": [
    "from sklearn.model_selection import train_test_split\n",
    "X = df.drop(['bcr', 'Cell Length', 'EventNum', 'Time'], axis=1)\n",
    "y = df['bcr']\n",
    "X_train, X_test, y_train, y_test = train_test_split(X, y)"
   ]
  },
  {
   "cell_type": "code",
   "execution_count": 8,
   "metadata": {},
   "outputs": [
    {
     "name": "stderr",
     "output_type": "stream",
     "text": [
      "/Users/Mike/anaconda3/envs/ml-genomics/lib/python3.8/site-packages/sklearn/svm/_base.py:976: ConvergenceWarning: Liblinear failed to converge, increase the number of iterations.\n"
     ]
    },
    {
     "data": {
      "text/plain": [
       "0.821605819566252"
      ]
     },
     "execution_count": 8,
     "metadata": {},
     "output_type": "execute_result"
    }
   ],
   "source": [
    "from sklearn.linear_model import LogisticRegression\n",
    "lr = LogisticRegression(solver='liblinear').fit(X_train[:50000], y_train[:50000])\n",
    "lr.score(X_test, y_test)"
   ]
  },
  {
   "cell_type": "code",
   "execution_count": null,
   "metadata": {},
   "outputs": [],
   "source": []
  }
 ],
 "metadata": {
  "kernelspec": {
   "display_name": "ml-genomics",
   "language": "python",
   "name": "ml-genomics"
  },
  "language_info": {
   "codemirror_mode": {
    "name": "ipython",
    "version": 3
   },
   "file_extension": ".py",
   "mimetype": "text/x-python",
   "name": "python",
   "nbconvert_exporter": "python",
   "pygments_lexer": "ipython3",
   "version": "3.8.5"
  },
  "toc": {
   "base_numbering": 1,
   "nav_menu": {},
   "number_sections": true,
   "sideBar": true,
   "skip_h1_title": false,
   "title_cell": "Table of Contents",
   "title_sidebar": "Contents",
   "toc_cell": false,
   "toc_position": {},
   "toc_section_display": true,
   "toc_window_display": false
  },
  "varInspector": {
   "cols": {
    "lenName": 16,
    "lenType": 16,
    "lenVar": 40
   },
   "kernels_config": {
    "python": {
     "delete_cmd_postfix": "",
     "delete_cmd_prefix": "del ",
     "library": "var_list.py",
     "varRefreshCmd": "print(var_dic_list())"
    },
    "r": {
     "delete_cmd_postfix": ") ",
     "delete_cmd_prefix": "rm(",
     "library": "var_list.r",
     "varRefreshCmd": "cat(var_dic_list()) "
    }
   },
   "types_to_exclude": [
    "module",
    "function",
    "builtin_function_or_method",
    "instance",
    "_Feature"
   ],
   "window_display": false
  }
 },
 "nbformat": 4,
 "nbformat_minor": 5
}
