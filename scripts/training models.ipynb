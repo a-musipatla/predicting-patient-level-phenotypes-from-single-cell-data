{
 "cells": [
  {
   "cell_type": "code",
   "execution_count": 20,
   "metadata": {},
   "outputs": [],
   "source": [
    "import pandas as pd\n",
    "import numpy as np\n",
    "\n",
    "import sys\n",
    "sys.path.insert(1, 'dnn/')\n",
    "\n",
    "# del bnn\n",
    "import bcell_nn as bnn\n",
    "import bcell_plot\n",
    "import bcell_preprocess as bpreprocess\n",
    "# import bcell_driver\n",
    "\n",
    "# System arguments\n",
    "import argparse\n",
    "# data management\n",
    "import numpy as np\n",
    "import pandas as pd\n",
    "# visualization\n",
    "import matplotlib.pyplot as plt\n",
    "import seaborn as sns\n",
    "# flow cytometry libraries\n",
    "import cytoflow as flow\n",
    "# user defined functions\n",
    "\n",
    "from tensorflow import keras\n",
    "from tensorflow.keras import layers\n",
    "import tensorflow as tf\n",
    "\n",
    "import matplotlib.pyplot as plt\n",
    "%matplotlib inline"
   ]
  },
  {
   "cell_type": "code",
   "execution_count": 21,
   "metadata": {},
   "outputs": [],
   "source": [
    "# specify data files\n",
    "marrow_basal_file = '../data/B_cell_data/Marrow1_01_Basal1.fcs'\n",
    "marrow_bcr_file   = '../data/B_cell_data/Marrow1_06_BCR.fcs'\n",
    "\n",
    "# using the cytoflow package\n",
    "basal_tube = flow.Tube(file = marrow_basal_file,\n",
    "                  conditions = {'bcr' : 0.0})\n",
    "bcr_tube   = flow.Tube(file=marrow_bcr_file,\n",
    "                  conditions = {'bcr' : 1.0})\n",
    "\n",
    "import_op = flow.ImportOp(conditions = {'bcr' : 'float'},\n",
    "                          tubes = [basal_tube, bcr_tube])\n",
    "\n",
    "\n",
    "ex = import_op.apply()\n",
    "\n",
    "df = ex.data"
   ]
  },
  {
   "cell_type": "code",
   "execution_count": 22,
   "metadata": {},
   "outputs": [],
   "source": [
    "# format data\n",
    "c1 = pd.read_csv('../data/Bcell_signalling_proteins/matrix_basal_signalling_markers_#2.csv', index_col=0).columns.tolist()\n",
    "c2 = pd.read_csv( '../data/Bcell_surface_marker/matrix_basal_surface_markers_#2.csv', index_col=0).columns.tolist()\n",
    "\n",
    "# first signalling, then surface\n",
    "\n",
    "# c1"
   ]
  },
  {
   "cell_type": "code",
   "execution_count": 23,
   "metadata": {},
   "outputs": [],
   "source": [
    "signal_df = df.loc[:, c1]\n",
    "surface_df = df.loc[:, c2]\n",
    "y = df['bcr']"
   ]
  },
  {
   "cell_type": "code",
   "execution_count": 24,
   "metadata": {},
   "outputs": [
    {
     "name": "stdout",
     "output_type": "stream",
     "text": [
      "22 13\n"
     ]
    }
   ],
   "source": [
    "print(len(c1), len(c2))"
   ]
  },
  {
   "cell_type": "code",
   "execution_count": 25,
   "metadata": {},
   "outputs": [
    {
     "name": "stdout",
     "output_type": "stream",
     "text": [
      "29238 29238\n"
     ]
    }
   ],
   "source": [
    "# concat wishbone data\n",
    "branches = pd.concat([pd.read_csv('../data/Wishbone_branches/branches_bcr_signalling.csv', index_col=0), pd.read_csv('../data/Wishbone_branches/branches_basal_signalling.csv', index_col=0)])\n",
    "trajectories = pd.concat([pd.read_csv('../data/Wishbone_trajectories/trajectory_bcr_signalling.csv', index_col=0), pd.read_csv('../data/Wishbone_trajectories/trajectory_basal_signalling.csv', index_col=0)])\n",
    "\n",
    "branches.columns = ['branch']\n",
    "trajectories.columns = ['trajectory']\n",
    "\n",
    "branches = branches[~branches.index.duplicated(keep='first')]\n",
    "trajectories = trajectories[~trajectories.index.duplicated(keep='first')]\n",
    "\n",
    "print(len(branches), len(trajectories))"
   ]
  },
  {
   "cell_type": "code",
   "execution_count": 26,
   "metadata": {},
   "outputs": [
    {
     "data": {
      "text/plain": [
       "(823701, 42)"
      ]
     },
     "execution_count": 26,
     "metadata": {},
     "output_type": "execute_result"
    }
   ],
   "source": [
    "df.shape"
   ]
  },
  {
   "cell_type": "code",
   "execution_count": 27,
   "metadata": {},
   "outputs": [],
   "source": [
    "df = df.merge(branches, left_index=True, right_index=True, how='inner')\n",
    "df = df.merge(trajectories, left_index=True, right_index=True, how='inner')"
   ]
  },
  {
   "cell_type": "code",
   "execution_count": 28,
   "metadata": {},
   "outputs": [
    {
     "data": {
      "text/plain": [
       "(29238, 44)"
      ]
     },
     "execution_count": 28,
     "metadata": {},
     "output_type": "execute_result"
    }
   ],
   "source": [
    "df.shape"
   ]
  },
  {
   "cell_type": "code",
   "execution_count": 29,
   "metadata": {},
   "outputs": [],
   "source": [
    "# signal_df = signal_df.merge(branches, left_index=True, right_index=True, how='inner')\n",
    "# signal_df = signal_df.merge(trajectories, left_index=True, right_index=True, how='inner')\n",
    "\n",
    "# surface_df = surface_df.merge(branches, left_index=True, right_index=True, how='inner')\n",
    "# surface_df = surface_df.merge(trajectories, left_index=True, right_index=True, how='inner')"
   ]
  },
  {
   "cell_type": "code",
   "execution_count": null,
   "metadata": {},
   "outputs": [],
   "source": []
  },
  {
   "cell_type": "code",
   "execution_count": null,
   "metadata": {},
   "outputs": [],
   "source": []
  },
  {
   "cell_type": "code",
   "execution_count": 30,
   "metadata": {},
   "outputs": [],
   "source": [
    "signal_model = keras.models.load_model('../models/wishbone_signal1')\n",
    "surface_model = keras.models.load_model('../models/wishbone_surface1')\n",
    "\n",
    "\n",
    "    \n"
   ]
  },
  {
   "cell_type": "code",
   "execution_count": 31,
   "metadata": {},
   "outputs": [
    {
     "name": "stdout",
     "output_type": "stream",
     "text": [
      "Model: \"functional_23\"\n",
      "_________________________________________________________________\n",
      "Layer (type)                 Output Shape              Param #   \n",
      "=================================================================\n",
      "input_12 (InputLayer)        [(None, 24)]              0         \n",
      "_________________________________________________________________\n",
      "dense_44 (Dense)             (None, 10)                250       \n",
      "_________________________________________________________________\n",
      "dense_45 (Dense)             (None, 8)                 88        \n",
      "_________________________________________________________________\n",
      "dense_46 (Dense)             (None, 4)                 36        \n",
      "_________________________________________________________________\n",
      "dropout (Dropout)            (None, 4)                 0         \n",
      "_________________________________________________________________\n",
      "dense_47 (Dense)             (None, 1)                 5         \n",
      "=================================================================\n",
      "Total params: 379\n",
      "Trainable params: 379\n",
      "Non-trainable params: 0\n",
      "_________________________________________________________________\n"
     ]
    }
   ],
   "source": [
    "signal_model.summary()"
   ]
  },
  {
   "cell_type": "code",
   "execution_count": 34,
   "metadata": {},
   "outputs": [],
   "source": [
    "# ADD 2 TO ACCOMODATE WISHBONE!!\n",
    "inputs = keras.Input(shape=(len(c1)+2,))\n",
    "for i, x in enumerate([10, 8, 4]):\n",
    "    if i == 0:\n",
    "        outputs = layers.Dense(x, activation='relu')(inputs)\n",
    "    else:\n",
    "        outputs = layers.Dense(x, activation='relu')(outputs)\n",
    "outputs = layers.Dropout(0.1, name='dropout')(outputs)\n",
    "outputs = layers.Dense(1, activation='sigmoid')(outputs)\n",
    "\n",
    "model1 = keras.Model(inputs, outputs)\n",
    "\n",
    "signal_model.save_weights('signal_model_weights.h5')\n",
    "\n",
    "model1.load_weights('signal_model_weights.h5')"
   ]
  },
  {
   "cell_type": "code",
   "execution_count": 35,
   "metadata": {},
   "outputs": [],
   "source": [
    "# ADD 2 TO ACCOMODATE WISHBONE!!\n",
    "inputs = keras.Input(shape=(len(c2)+2,))\n",
    "for i, x in enumerate([10, 8, 4]):\n",
    "    if i == 0:\n",
    "        outputs = layers.Dense(x, activation='relu')(inputs)\n",
    "    else:\n",
    "        outputs = layers.Dense(x, activation='relu')(outputs)\n",
    "outputs = layers.Dropout(0.1, name='dropout')(outputs)\n",
    "outputs = layers.Dense(1, activation='sigmoid')(outputs)\n",
    "\n",
    "model2 = keras.Model(inputs, outputs)\n",
    "\n",
    "surface_model.save_weights('surface_model_weights.h5')\n",
    "\n",
    "model2.load_weights('surface_model_weights.h5')"
   ]
  },
  {
   "cell_type": "code",
   "execution_count": 37,
   "metadata": {},
   "outputs": [],
   "source": [
    "\n",
    "# signal_model._name = 'test1'\n",
    "# surface_model._name = 'test2'\n",
    "\n",
    "# for layer in signal_model.layers:\n",
    "# #     layer.input._name = layer.input.name + str(\"_1\")\n",
    "#     layer._name = layer.name + str(\"_1\")\n",
    "#     print(layer.name)\n",
    "# #     print(layer.input.name)\n",
    "\n",
    "# # change layer names\n",
    "# for layer in surface_model.layers:\n",
    "# #     layer.input._name = layer.input.name + str(\"_2\")\n",
    "#     layer._name = layer.name + str(\"_2\")\n",
    "# #     print(layer.input.name)\n",
    "#     print(layer.name)"
   ]
  },
  {
   "cell_type": "code",
   "execution_count": null,
   "metadata": {},
   "outputs": [],
   "source": []
  },
  {
   "cell_type": "code",
   "execution_count": null,
   "metadata": {},
   "outputs": [],
   "source": []
  },
  {
   "cell_type": "code",
   "execution_count": 38,
   "metadata": {},
   "outputs": [],
   "source": [
    "signal_model = model1\n",
    "surface_model = model2"
   ]
  },
  {
   "cell_type": "code",
   "execution_count": 39,
   "metadata": {},
   "outputs": [],
   "source": [
    "\n",
    "signal_model._name = 'test1'\n",
    "surface_model._name = 'test2'\n",
    "\n",
    "for layer in signal_model.layers:\n",
    "#     layer.input._name = layer.input.name + str(\"_1\")\n",
    "    layer._name = layer.name + str(\"_1\")\n",
    "#     print(layer.name)\n",
    "#     print(layer.input.name)\n",
    "\n",
    "# change layer names\n",
    "for layer in surface_model.layers:\n",
    "#     layer.input._name = layer.input.name + str(\"_2\")\n",
    "    layer._name = layer.name + str(\"_2\")\n",
    "#     print(layer.input.name)\n",
    "#     print(layer.name)"
   ]
  },
  {
   "cell_type": "code",
   "execution_count": 40,
   "metadata": {},
   "outputs": [],
   "source": [
    "signal_model_output = signal_model.layers[-2].output\n",
    "surface_model_output = surface_model.layers[-2].output"
   ]
  },
  {
   "cell_type": "code",
   "execution_count": 41,
   "metadata": {
    "scrolled": true
   },
   "outputs": [],
   "source": [
    "x = layers.concatenate([signal_model_output, surface_model_output], name='concat')\n",
    "new_output = layers.Dense(16, activation='relu')(x)\n",
    "new_output = layers.Dense(4, activation='sigmoid')(new_output)\n",
    "new_output = layers.Dense(1, activation='sigmoid')(new_output)\n",
    "\n",
    "new_input = [signal_model.input, surface_model.input]"
   ]
  },
  {
   "cell_type": "code",
   "execution_count": 42,
   "metadata": {},
   "outputs": [],
   "source": [
    "model = keras.Model(new_input, outputs=new_output, name='mymodel')\n",
    "model.compile(loss='binary_crossentropy', optimizer='adam', metrics=[\"acc\"])"
   ]
  },
  {
   "cell_type": "code",
   "execution_count": 43,
   "metadata": {
    "scrolled": true
   },
   "outputs": [
    {
     "name": "stdout",
     "output_type": "stream",
     "text": [
      "Model: \"mymodel\"\n",
      "__________________________________________________________________________________________________\n",
      "Layer (type)                    Output Shape         Param #     Connected to                     \n",
      "==================================================================================================\n",
      "input_5_1 (InputLayer)          [(None, 24)]         0                                            \n",
      "__________________________________________________________________________________________________\n",
      "input_6_2 (InputLayer)          [(None, 15)]         0                                            \n",
      "__________________________________________________________________________________________________\n",
      "dense_17_1 (Dense)              (None, 10)           250         input_5_1[0][0]                  \n",
      "__________________________________________________________________________________________________\n",
      "dense_21_2 (Dense)              (None, 10)           160         input_6_2[0][0]                  \n",
      "__________________________________________________________________________________________________\n",
      "dense_18_1 (Dense)              (None, 8)            88          dense_17_1[0][0]                 \n",
      "__________________________________________________________________________________________________\n",
      "dense_22_2 (Dense)              (None, 8)            88          dense_21_2[0][0]                 \n",
      "__________________________________________________________________________________________________\n",
      "dense_19_1 (Dense)              (None, 4)            36          dense_18_1[0][0]                 \n",
      "__________________________________________________________________________________________________\n",
      "dense_23_2 (Dense)              (None, 4)            36          dense_22_2[0][0]                 \n",
      "__________________________________________________________________________________________________\n",
      "dropout_1 (Dropout)             (None, 4)            0           dense_19_1[0][0]                 \n",
      "__________________________________________________________________________________________________\n",
      "dropout_2 (Dropout)             (None, 4)            0           dense_23_2[0][0]                 \n",
      "__________________________________________________________________________________________________\n",
      "concat (Concatenate)            (None, 8)            0           dropout_1[0][0]                  \n",
      "                                                                 dropout_2[0][0]                  \n",
      "__________________________________________________________________________________________________\n",
      "dense_25 (Dense)                (None, 16)           144         concat[0][0]                     \n",
      "__________________________________________________________________________________________________\n",
      "dense_26 (Dense)                (None, 4)            68          dense_25[0][0]                   \n",
      "__________________________________________________________________________________________________\n",
      "dense_27 (Dense)                (None, 1)            5           dense_26[0][0]                   \n",
      "==================================================================================================\n",
      "Total params: 875\n",
      "Trainable params: 875\n",
      "Non-trainable params: 0\n",
      "__________________________________________________________________________________________________\n"
     ]
    }
   ],
   "source": [
    "model.summary()"
   ]
  },
  {
   "cell_type": "code",
   "execution_count": 44,
   "metadata": {},
   "outputs": [],
   "source": [
    "# recover test data\n",
    "surface_df_train = pd.read_csv('../data/surface_train.csv', index_col=0)\n",
    "surface_df_test = pd.read_csv('../data/surface_test.csv', index_col=0)\n",
    "\n",
    "# np.random.seed(0)\n",
    "signal_df_train = pd.read_csv('../data/signal_train.csv', index_col=0)\n",
    "signal_df_test = pd.read_csv('../data/signal_test.csv', index_col=0)\n",
    "\n"
   ]
  },
  {
   "cell_type": "code",
   "execution_count": 45,
   "metadata": {},
   "outputs": [],
   "source": [
    "test_data_indices = df.index.isin(signal_df_test.index) | df.index.isin(surface_df_test.index)"
   ]
  },
  {
   "cell_type": "code",
   "execution_count": 46,
   "metadata": {},
   "outputs": [],
   "source": [
    "df1 = df[~test_data_indices]\n",
    "df2 = df[test_data_indices]"
   ]
  },
  {
   "cell_type": "code",
   "execution_count": 47,
   "metadata": {},
   "outputs": [],
   "source": [
    "# format data\n",
    "c1 = pd.read_csv('../data/Bcell_signalling_proteins/matrix_basal_signalling_markers_#2.csv', index_col=0).columns.tolist()\n",
    "c2 = pd.read_csv( '../data/Bcell_surface_marker/matrix_basal_surface_markers_#2.csv', index_col=0).columns.tolist()\n",
    "\n",
    "# first signalling, then surface\n",
    "\n",
    "# c1\n",
    "\n",
    "# add trajectory and branches\n",
    "c1.extend(['branch', 'trajectory'])\n",
    "c2.extend(['branch', 'trajectory'])"
   ]
  },
  {
   "cell_type": "code",
   "execution_count": 48,
   "metadata": {},
   "outputs": [],
   "source": [
    "signal_df = df1.loc[:, c1]\n",
    "surface_df = df1.loc[:, c2]\n",
    "y = df1.pop('bcr')\n",
    "\n",
    "\n",
    "signal_df_val = df2.loc[:, c1]\n",
    "surface_df_val = df2.loc[:, c2]\n",
    "y_val = df2.pop('bcr')"
   ]
  },
  {
   "cell_type": "code",
   "execution_count": null,
   "metadata": {
    "scrolled": true
   },
   "outputs": [],
   "source": []
  },
  {
   "cell_type": "code",
   "execution_count": 49,
   "metadata": {
    "scrolled": true
   },
   "outputs": [
    {
     "name": "stdout",
     "output_type": "stream",
     "text": [
      "Epoch 1/100\n",
      "294/294 [==============================] - 1s 5ms/step - loss: 0.3726 - acc: 0.8784 - val_loss: 0.3320 - val_acc: 0.8782\n",
      "Epoch 2/100\n",
      "294/294 [==============================] - 1s 4ms/step - loss: 0.3167 - acc: 0.8785 - val_loss: 0.3032 - val_acc: 0.8782\n",
      "Epoch 3/100\n",
      "294/294 [==============================] - 1s 4ms/step - loss: 0.2889 - acc: 0.8785 - val_loss: 0.2836 - val_acc: 0.8782\n",
      "Epoch 4/100\n",
      "294/294 [==============================] - 1s 4ms/step - loss: 0.2726 - acc: 0.8785 - val_loss: 0.2623 - val_acc: 0.8785\n",
      "Epoch 5/100\n",
      "294/294 [==============================] - 1s 4ms/step - loss: 0.2585 - acc: 0.8893 - val_loss: 0.2492 - val_acc: 0.8933\n",
      "Epoch 6/100\n",
      "294/294 [==============================] - 1s 4ms/step - loss: 0.2492 - acc: 0.8926 - val_loss: 0.2462 - val_acc: 0.8911\n",
      "Epoch 7/100\n",
      "294/294 [==============================] - 1s 4ms/step - loss: 0.2464 - acc: 0.8950 - val_loss: 0.2421 - val_acc: 0.8993\n",
      "Epoch 8/100\n",
      "294/294 [==============================] - 1s 4ms/step - loss: 0.2446 - acc: 0.8963 - val_loss: 0.2400 - val_acc: 0.8993\n",
      "Epoch 9/100\n",
      "294/294 [==============================] - 1s 4ms/step - loss: 0.2385 - acc: 0.8989 - val_loss: 0.2395 - val_acc: 0.9013\n",
      "Epoch 10/100\n",
      "294/294 [==============================] - 1s 4ms/step - loss: 0.2338 - acc: 0.9011 - val_loss: 0.2344 - val_acc: 0.9021\n",
      "Epoch 11/100\n",
      "294/294 [==============================] - 1s 4ms/step - loss: 0.2349 - acc: 0.9000 - val_loss: 0.2337 - val_acc: 0.9006\n",
      "Epoch 12/100\n",
      "294/294 [==============================] - 1s 4ms/step - loss: 0.2324 - acc: 0.9011 - val_loss: 0.2307 - val_acc: 0.9041\n",
      "Epoch 13/100\n",
      "294/294 [==============================] - 1s 4ms/step - loss: 0.2315 - acc: 0.9007 - val_loss: 0.2321 - val_acc: 0.9026\n",
      "Epoch 14/100\n",
      "294/294 [==============================] - 1s 4ms/step - loss: 0.2276 - acc: 0.9031 - val_loss: 0.2294 - val_acc: 0.9021\n",
      "Epoch 15/100\n",
      "294/294 [==============================] - 1s 4ms/step - loss: 0.2283 - acc: 0.9026 - val_loss: 0.2265 - val_acc: 0.9048\n",
      "Epoch 16/100\n",
      "294/294 [==============================] - 1s 4ms/step - loss: 0.2270 - acc: 0.9029 - val_loss: 0.2385 - val_acc: 0.8982\n",
      "Epoch 17/100\n",
      "294/294 [==============================] - 1s 4ms/step - loss: 0.2255 - acc: 0.9025 - val_loss: 0.2278 - val_acc: 0.9024\n",
      "Epoch 18/100\n",
      "294/294 [==============================] - 1s 4ms/step - loss: 0.2247 - acc: 0.9030 - val_loss: 0.2302 - val_acc: 0.9032\n",
      "Epoch 19/100\n",
      "294/294 [==============================] - 1s 4ms/step - loss: 0.2219 - acc: 0.9042 - val_loss: 0.2270 - val_acc: 0.9041\n",
      "Epoch 20/100\n",
      "294/294 [==============================] - 1s 4ms/step - loss: 0.2256 - acc: 0.9033 - val_loss: 0.2256 - val_acc: 0.8996\n",
      "Epoch 21/100\n",
      "294/294 [==============================] - 1s 4ms/step - loss: 0.2208 - acc: 0.9038 - val_loss: 0.2243 - val_acc: 0.9020\n",
      "Epoch 22/100\n",
      "294/294 [==============================] - 1s 4ms/step - loss: 0.2204 - acc: 0.9056 - val_loss: 0.2249 - val_acc: 0.9043\n",
      "Epoch 23/100\n",
      "294/294 [==============================] - 1s 4ms/step - loss: 0.2184 - acc: 0.9058 - val_loss: 0.2268 - val_acc: 0.9017\n",
      "Epoch 24/100\n",
      "294/294 [==============================] - 1s 4ms/step - loss: 0.2215 - acc: 0.9040 - val_loss: 0.2242 - val_acc: 0.9008\n",
      "Epoch 25/100\n",
      "294/294 [==============================] - 1s 4ms/step - loss: 0.2200 - acc: 0.9058 - val_loss: 0.2268 - val_acc: 0.9015\n",
      "Epoch 26/100\n",
      "294/294 [==============================] - 1s 4ms/step - loss: 0.2208 - acc: 0.9035 - val_loss: 0.2279 - val_acc: 0.8984\n",
      "Epoch 27/100\n",
      "294/294 [==============================] - 1s 4ms/step - loss: 0.2175 - acc: 0.9067 - val_loss: 0.2221 - val_acc: 0.9032\n",
      "Epoch 28/100\n",
      "294/294 [==============================] - 1s 4ms/step - loss: 0.2201 - acc: 0.9030 - val_loss: 0.2340 - val_acc: 0.9042\n",
      "Epoch 29/100\n",
      "294/294 [==============================] - 1s 4ms/step - loss: 0.2214 - acc: 0.9055 - val_loss: 0.2247 - val_acc: 0.9034\n",
      "Epoch 30/100\n",
      "294/294 [==============================] - 1s 4ms/step - loss: 0.2187 - acc: 0.9048 - val_loss: 0.2271 - val_acc: 0.9046\n",
      "Epoch 31/100\n",
      "294/294 [==============================] - 1s 4ms/step - loss: 0.2149 - acc: 0.9056 - val_loss: 0.2232 - val_acc: 0.9070\n",
      "Epoch 32/100\n",
      "294/294 [==============================] - 1s 4ms/step - loss: 0.2154 - acc: 0.9043 - val_loss: 0.2204 - val_acc: 0.9036\n",
      "Epoch 33/100\n",
      "294/294 [==============================] - 1s 4ms/step - loss: 0.2151 - acc: 0.9056 - val_loss: 0.2190 - val_acc: 0.9045\n",
      "Epoch 34/100\n",
      "294/294 [==============================] - 1s 4ms/step - loss: 0.2114 - acc: 0.9078 - val_loss: 0.2246 - val_acc: 0.9023\n",
      "Epoch 35/100\n",
      "294/294 [==============================] - 1s 4ms/step - loss: 0.2151 - acc: 0.9063 - val_loss: 0.2223 - val_acc: 0.9025\n",
      "Epoch 36/100\n",
      "294/294 [==============================] - 1s 4ms/step - loss: 0.2117 - acc: 0.9080 - val_loss: 0.2220 - val_acc: 0.9055\n",
      "Epoch 37/100\n",
      "294/294 [==============================] - 1s 4ms/step - loss: 0.2106 - acc: 0.9086 - val_loss: 0.2231 - val_acc: 0.9085\n",
      "Epoch 38/100\n",
      "294/294 [==============================] - 1s 4ms/step - loss: 0.2131 - acc: 0.9078 - val_loss: 0.2201 - val_acc: 0.9067\n",
      "Epoch 39/100\n",
      "294/294 [==============================] - 1s 4ms/step - loss: 0.2112 - acc: 0.9059 - val_loss: 0.2204 - val_acc: 0.9065\n",
      "Epoch 40/100\n",
      "294/294 [==============================] - 1s 4ms/step - loss: 0.2127 - acc: 0.9075 - val_loss: 0.2228 - val_acc: 0.9070\n",
      "Epoch 41/100\n",
      "294/294 [==============================] - 1s 4ms/step - loss: 0.2099 - acc: 0.9097 - val_loss: 0.2222 - val_acc: 0.9061\n",
      "Epoch 42/100\n",
      "294/294 [==============================] - 1s 4ms/step - loss: 0.2113 - acc: 0.9080 - val_loss: 0.2204 - val_acc: 0.9025\n",
      "Epoch 43/100\n",
      "294/294 [==============================] - 1s 4ms/step - loss: 0.2116 - acc: 0.9069 - val_loss: 0.2217 - val_acc: 0.9036\n",
      "Epoch 44/100\n",
      "294/294 [==============================] - 1s 4ms/step - loss: 0.2089 - acc: 0.9085 - val_loss: 0.2229 - val_acc: 0.9054\n",
      "Epoch 45/100\n",
      "294/294 [==============================] - 1s 4ms/step - loss: 0.2155 - acc: 0.9071 - val_loss: 0.2199 - val_acc: 0.9068\n",
      "Epoch 46/100\n",
      "294/294 [==============================] - 1s 4ms/step - loss: 0.2092 - acc: 0.9111 - val_loss: 0.2198 - val_acc: 0.9065\n",
      "Epoch 47/100\n",
      "294/294 [==============================] - 1s 4ms/step - loss: 0.2085 - acc: 0.9099 - val_loss: 0.2221 - val_acc: 0.9058\n",
      "Epoch 48/100\n",
      "294/294 [==============================] - 1s 4ms/step - loss: 0.2076 - acc: 0.9107 - val_loss: 0.2249 - val_acc: 0.9076\n",
      "Epoch 49/100\n",
      "294/294 [==============================] - 1s 4ms/step - loss: 0.2077 - acc: 0.9104 - val_loss: 0.2215 - val_acc: 0.9047\n",
      "Epoch 50/100\n",
      "294/294 [==============================] - 1s 4ms/step - loss: 0.2078 - acc: 0.9094 - val_loss: 0.2190 - val_acc: 0.9079\n",
      "Epoch 51/100\n",
      "294/294 [==============================] - 1s 4ms/step - loss: 0.2085 - acc: 0.9090 - val_loss: 0.2197 - val_acc: 0.9048\n",
      "Epoch 52/100\n",
      "294/294 [==============================] - 1s 4ms/step - loss: 0.2070 - acc: 0.9108 - val_loss: 0.2219 - val_acc: 0.9039\n",
      "Epoch 53/100\n",
      "294/294 [==============================] - 1s 4ms/step - loss: 0.2061 - acc: 0.9100 - val_loss: 0.2212 - val_acc: 0.9059\n",
      "Epoch 54/100\n",
      "294/294 [==============================] - 1s 4ms/step - loss: 0.2079 - acc: 0.9097 - val_loss: 0.2192 - val_acc: 0.9035\n",
      "Epoch 55/100\n",
      "294/294 [==============================] - 1s 4ms/step - loss: 0.2089 - acc: 0.9101 - val_loss: 0.2215 - val_acc: 0.9030\n",
      "Epoch 56/100\n",
      "294/294 [==============================] - 1s 4ms/step - loss: 0.2085 - acc: 0.9112 - val_loss: 0.2193 - val_acc: 0.9053\n",
      "Epoch 57/100\n",
      "294/294 [==============================] - 1s 4ms/step - loss: 0.2040 - acc: 0.9113 - val_loss: 0.2170 - val_acc: 0.9088\n",
      "Epoch 58/100\n",
      "294/294 [==============================] - 1s 4ms/step - loss: 0.2037 - acc: 0.9147 - val_loss: 0.2222 - val_acc: 0.9033\n",
      "Epoch 59/100\n",
      "294/294 [==============================] - 1s 4ms/step - loss: 0.2054 - acc: 0.9098 - val_loss: 0.2192 - val_acc: 0.9094\n",
      "Epoch 60/100\n",
      "294/294 [==============================] - 1s 4ms/step - loss: 0.2040 - acc: 0.9138 - val_loss: 0.2185 - val_acc: 0.9069\n",
      "Epoch 61/100\n",
      "294/294 [==============================] - 1s 4ms/step - loss: 0.2055 - acc: 0.9090 - val_loss: 0.2191 - val_acc: 0.9087\n",
      "Epoch 62/100\n"
     ]
    },
    {
     "name": "stdout",
     "output_type": "stream",
     "text": [
      "294/294 [==============================] - 1s 4ms/step - loss: 0.2014 - acc: 0.9132 - val_loss: 0.2249 - val_acc: 0.9008\n",
      "Epoch 63/100\n",
      "294/294 [==============================] - 1s 4ms/step - loss: 0.2033 - acc: 0.9138 - val_loss: 0.2186 - val_acc: 0.9060\n",
      "Epoch 64/100\n",
      "294/294 [==============================] - 1s 4ms/step - loss: 0.2047 - acc: 0.9128 - val_loss: 0.2169 - val_acc: 0.9071\n",
      "Epoch 65/100\n",
      "294/294 [==============================] - 1s 4ms/step - loss: 0.2056 - acc: 0.9115 - val_loss: 0.2155 - val_acc: 0.9083\n",
      "Epoch 66/100\n",
      "294/294 [==============================] - 1s 4ms/step - loss: 0.2046 - acc: 0.9110 - val_loss: 0.2174 - val_acc: 0.9079\n",
      "Epoch 67/100\n",
      "294/294 [==============================] - 1s 4ms/step - loss: 0.2023 - acc: 0.9137 - val_loss: 0.2173 - val_acc: 0.9062\n",
      "Epoch 68/100\n",
      "294/294 [==============================] - 1s 4ms/step - loss: 0.2020 - acc: 0.9133 - val_loss: 0.2159 - val_acc: 0.9097\n",
      "Epoch 69/100\n",
      "294/294 [==============================] - 1s 4ms/step - loss: 0.2033 - acc: 0.9118 - val_loss: 0.2241 - val_acc: 0.9056\n",
      "Epoch 70/100\n",
      "294/294 [==============================] - 1s 4ms/step - loss: 0.2015 - acc: 0.9145 - val_loss: 0.2180 - val_acc: 0.9055\n",
      "Epoch 71/100\n",
      "294/294 [==============================] - 1s 4ms/step - loss: 0.2011 - acc: 0.9132 - val_loss: 0.2197 - val_acc: 0.9046\n",
      "Epoch 72/100\n",
      "294/294 [==============================] - 1s 4ms/step - loss: 0.2028 - acc: 0.9119 - val_loss: 0.2178 - val_acc: 0.9065\n",
      "Epoch 73/100\n",
      "294/294 [==============================] - 1s 4ms/step - loss: 0.2011 - acc: 0.9133 - val_loss: 0.2216 - val_acc: 0.9041\n",
      "Epoch 74/100\n",
      "294/294 [==============================] - 1s 4ms/step - loss: 0.2028 - acc: 0.9147 - val_loss: 0.2153 - val_acc: 0.9073\n",
      "Epoch 75/100\n",
      "294/294 [==============================] - 1s 4ms/step - loss: 0.1993 - acc: 0.9149 - val_loss: 0.2155 - val_acc: 0.9088\n",
      "Epoch 76/100\n",
      "294/294 [==============================] - 1s 4ms/step - loss: 0.2005 - acc: 0.9119 - val_loss: 0.2175 - val_acc: 0.9074\n",
      "Epoch 77/100\n",
      "294/294 [==============================] - 1s 4ms/step - loss: 0.1976 - acc: 0.9158 - val_loss: 0.2163 - val_acc: 0.9069\n",
      "Epoch 78/100\n",
      "294/294 [==============================] - 1s 4ms/step - loss: 0.2008 - acc: 0.9141 - val_loss: 0.2180 - val_acc: 0.9081\n",
      "Epoch 79/100\n",
      "294/294 [==============================] - 1s 4ms/step - loss: 0.1977 - acc: 0.9143 - val_loss: 0.2180 - val_acc: 0.9062\n",
      "Epoch 80/100\n",
      "294/294 [==============================] - 1s 4ms/step - loss: 0.1967 - acc: 0.9153 - val_loss: 0.2195 - val_acc: 0.9087\n",
      "Epoch 81/100\n",
      "294/294 [==============================] - 1s 4ms/step - loss: 0.1995 - acc: 0.9134 - val_loss: 0.2175 - val_acc: 0.9090\n",
      "Epoch 82/100\n",
      "294/294 [==============================] - 1s 4ms/step - loss: 0.1961 - acc: 0.9148 - val_loss: 0.2220 - val_acc: 0.9060\n",
      "Epoch 83/100\n",
      "294/294 [==============================] - 1s 4ms/step - loss: 0.2004 - acc: 0.9138 - val_loss: 0.2165 - val_acc: 0.9064\n",
      "Epoch 84/100\n",
      "294/294 [==============================] - 1s 4ms/step - loss: 0.1994 - acc: 0.9155 - val_loss: 0.2165 - val_acc: 0.9073\n",
      "Epoch 85/100\n",
      "294/294 [==============================] - 1s 4ms/step - loss: 0.1969 - acc: 0.9144 - val_loss: 0.2183 - val_acc: 0.9056\n",
      "Epoch 86/100\n",
      "294/294 [==============================] - 1s 4ms/step - loss: 0.1976 - acc: 0.9155 - val_loss: 0.2171 - val_acc: 0.9087\n",
      "Epoch 87/100\n",
      "294/294 [==============================] - 1s 4ms/step - loss: 0.1954 - acc: 0.9166 - val_loss: 0.2190 - val_acc: 0.9068\n",
      "Epoch 88/100\n",
      "294/294 [==============================] - 1s 4ms/step - loss: 0.1963 - acc: 0.9148 - val_loss: 0.2158 - val_acc: 0.9085\n",
      "Epoch 89/100\n",
      "294/294 [==============================] - 1s 4ms/step - loss: 0.1971 - acc: 0.9160 - val_loss: 0.2206 - val_acc: 0.9053\n",
      "Epoch 90/100\n",
      "294/294 [==============================] - 1s 4ms/step - loss: 0.1958 - acc: 0.9162 - val_loss: 0.2198 - val_acc: 0.9060\n",
      "Epoch 91/100\n",
      "294/294 [==============================] - 1s 4ms/step - loss: 0.1985 - acc: 0.9144 - val_loss: 0.2217 - val_acc: 0.9037\n",
      "Epoch 92/100\n",
      "294/294 [==============================] - 1s 4ms/step - loss: 0.1976 - acc: 0.9164 - val_loss: 0.2205 - val_acc: 0.9069\n",
      "Epoch 93/100\n",
      "294/294 [==============================] - 1s 4ms/step - loss: 0.1990 - acc: 0.9143 - val_loss: 0.2213 - val_acc: 0.9090\n",
      "Epoch 94/100\n",
      "294/294 [==============================] - 1s 4ms/step - loss: 0.1976 - acc: 0.9154 - val_loss: 0.2172 - val_acc: 0.9074\n",
      "Epoch 95/100\n",
      "294/294 [==============================] - 1s 4ms/step - loss: 0.1940 - acc: 0.9170 - val_loss: 0.2204 - val_acc: 0.9087\n",
      "Epoch 96/100\n",
      "294/294 [==============================] - 1s 4ms/step - loss: 0.1943 - acc: 0.9159 - val_loss: 0.2158 - val_acc: 0.9089\n",
      "Epoch 97/100\n",
      "294/294 [==============================] - 1s 4ms/step - loss: 0.1991 - acc: 0.9138 - val_loss: 0.2241 - val_acc: 0.9023\n",
      "Epoch 98/100\n",
      "294/294 [==============================] - 1s 4ms/step - loss: 0.1948 - acc: 0.9165 - val_loss: 0.2168 - val_acc: 0.9056\n",
      "Epoch 99/100\n",
      "294/294 [==============================] - 1s 4ms/step - loss: 0.1934 - acc: 0.9177 - val_loss: 0.2153 - val_acc: 0.9103\n",
      "Epoch 100/100\n",
      "294/294 [==============================] - 1s 4ms/step - loss: 0.1989 - acc: 0.9127 - val_loss: 0.2229 - val_acc: 0.9076\n"
     ]
    }
   ],
   "source": [
    "callback = tf.keras.callbacks.EarlyStopping(monitor='loss', patience=10, restore_best_weights=True)\n",
    "history = model.fit([signal_df.values, surface_df.values], y,\n",
    "                    batch_size = 64,\n",
    "                    validation_data=([signal_df_val.values, surface_df_val.values], y_val),\n",
    "                    epochs=100\n",
    "                   )"
   ]
  },
  {
   "cell_type": "code",
   "execution_count": 50,
   "metadata": {},
   "outputs": [
    {
     "name": "stdout",
     "output_type": "stream",
     "text": [
      "WARNING:tensorflow:From /home/xf2209/anaconda3/envs/ml-genomics/lib/python3.7/site-packages/tensorflow/python/training/tracking/tracking.py:111: Model.state_updates (from tensorflow.python.keras.engine.training) is deprecated and will be removed in a future version.\n",
      "Instructions for updating:\n",
      "This property should not be used in TensorFlow 2.0, as updates are applied automatically.\n",
      "WARNING:tensorflow:From /home/xf2209/anaconda3/envs/ml-genomics/lib/python3.7/site-packages/tensorflow/python/training/tracking/tracking.py:111: Layer.updates (from tensorflow.python.keras.engine.base_layer) is deprecated and will be removed in a future version.\n",
      "Instructions for updating:\n",
      "This property should not be used in TensorFlow 2.0, as updates are applied automatically.\n",
      "INFO:tensorflow:Assets written to: ../models/transfer_final2/assets\n"
     ]
    },
    {
     "data": {
      "text/plain": [
       "'../models/transfer_final2'"
      ]
     },
     "execution_count": 50,
     "metadata": {},
     "output_type": "execute_result"
    }
   ],
   "source": [
    "bnn.save_model(model, '../models/transfer_final', history=history)"
   ]
  },
  {
   "cell_type": "code",
   "execution_count": null,
   "metadata": {},
   "outputs": [],
   "source": []
  },
  {
   "cell_type": "code",
   "execution_count": 51,
   "metadata": {},
   "outputs": [],
   "source": [
    "# compare to no transfer"
   ]
  },
  {
   "cell_type": "code",
   "execution_count": 86,
   "metadata": {},
   "outputs": [],
   "source": [
    "df1 = df[~test_data_indices]\n",
    "df2 = df[test_data_indices]\n",
    "\n",
    "train_df = df1.drop(['Cell Length', 'EventNum', 'Time'], axis=1)\n",
    "y = train_df.pop('bcr')\n",
    "\n",
    "\n",
    "test_df = df2.drop(['Cell Length', 'EventNum', 'Time'], axis=1)\n",
    "y_val = test_df.pop('bcr')"
   ]
  },
  {
   "cell_type": "code",
   "execution_count": null,
   "metadata": {},
   "outputs": [],
   "source": []
  },
  {
   "cell_type": "code",
   "execution_count": null,
   "metadata": {},
   "outputs": [],
   "source": []
  },
  {
   "cell_type": "code",
   "execution_count": 53,
   "metadata": {},
   "outputs": [],
   "source": [
    "# train model\n",
    "def get_model(input_shape):\n",
    "    inputs = keras.Input(shape=(input_shape,))\n",
    "    for i, x in enumerate([20, 16, 8]):\n",
    "        if i == 0:\n",
    "            outputs = layers.Dense(x, activation='relu')(inputs)\n",
    "        else:\n",
    "            outputs = layers.Dense(x, activation='relu')(outputs)\n",
    "    outputs = layers.Dropout(0.1, name='dropout')(outputs)\n",
    "    outputs = layers.Dense(1, activation='sigmoid')(outputs)\n",
    "\n",
    "    model1 = keras.Model(inputs, outputs)\n",
    "    \n",
    "    \n",
    "    return model1"
   ]
  },
  {
   "cell_type": "code",
   "execution_count": 58,
   "metadata": {},
   "outputs": [],
   "source": [
    "model = get_model(train_df.shape[1])\n",
    "model.compile(loss='binary_crossentropy', optimizer='adam', metrics=[\"acc\"])"
   ]
  },
  {
   "cell_type": "code",
   "execution_count": 59,
   "metadata": {},
   "outputs": [
    {
     "name": "stdout",
     "output_type": "stream",
     "text": [
      "Model: \"functional_15\"\n",
      "_________________________________________________________________\n",
      "Layer (type)                 Output Shape              Param #   \n",
      "=================================================================\n",
      "input_8 (InputLayer)         [(None, 40)]              0         \n",
      "_________________________________________________________________\n",
      "dense_32 (Dense)             (None, 20)                820       \n",
      "_________________________________________________________________\n",
      "dense_33 (Dense)             (None, 16)                336       \n",
      "_________________________________________________________________\n",
      "dense_34 (Dense)             (None, 8)                 136       \n",
      "_________________________________________________________________\n",
      "dropout (Dropout)            (None, 8)                 0         \n",
      "_________________________________________________________________\n",
      "dense_35 (Dense)             (None, 1)                 9         \n",
      "=================================================================\n",
      "Total params: 1,301\n",
      "Trainable params: 1,301\n",
      "Non-trainable params: 0\n",
      "_________________________________________________________________\n"
     ]
    }
   ],
   "source": [
    "model.summary()"
   ]
  },
  {
   "cell_type": "code",
   "execution_count": 60,
   "metadata": {
    "scrolled": true
   },
   "outputs": [
    {
     "name": "stdout",
     "output_type": "stream",
     "text": [
      "Epoch 1/100\n",
      "74/74 [==============================] - 0s 5ms/step - loss: 3.8133 - acc: 0.7611 - val_loss: 1.1262 - val_acc: 0.8233\n",
      "Epoch 2/100\n",
      "74/74 [==============================] - 0s 4ms/step - loss: 0.8399 - acc: 0.8258 - val_loss: 0.5759 - val_acc: 0.8707\n",
      "Epoch 3/100\n",
      "74/74 [==============================] - 0s 4ms/step - loss: 0.5200 - acc: 0.8649 - val_loss: 0.4861 - val_acc: 0.8729\n",
      "Epoch 4/100\n",
      "74/74 [==============================] - 0s 4ms/step - loss: 0.4616 - acc: 0.8696 - val_loss: 0.4420 - val_acc: 0.8719\n",
      "Epoch 5/100\n",
      "74/74 [==============================] - 0s 4ms/step - loss: 0.3896 - acc: 0.8732 - val_loss: 0.4072 - val_acc: 0.8741\n",
      "Epoch 6/100\n",
      "74/74 [==============================] - 0s 4ms/step - loss: 0.3580 - acc: 0.8749 - val_loss: 0.3853 - val_acc: 0.8756\n",
      "Epoch 7/100\n",
      "74/74 [==============================] - 0s 4ms/step - loss: 0.3420 - acc: 0.8751 - val_loss: 0.3644 - val_acc: 0.8771\n",
      "Epoch 8/100\n",
      "74/74 [==============================] - 0s 4ms/step - loss: 0.3205 - acc: 0.8771 - val_loss: 0.3685 - val_acc: 0.8774\n",
      "Epoch 9/100\n",
      "74/74 [==============================] - 0s 4ms/step - loss: 0.3145 - acc: 0.8773 - val_loss: 0.3524 - val_acc: 0.8774\n",
      "Epoch 10/100\n",
      "74/74 [==============================] - 0s 4ms/step - loss: 0.3019 - acc: 0.8781 - val_loss: 0.3493 - val_acc: 0.8773\n",
      "Epoch 11/100\n",
      "74/74 [==============================] - 0s 4ms/step - loss: 0.2939 - acc: 0.8782 - val_loss: 0.3434 - val_acc: 0.8776\n",
      "Epoch 12/100\n",
      "74/74 [==============================] - 0s 4ms/step - loss: 0.2920 - acc: 0.8779 - val_loss: 0.3445 - val_acc: 0.8778\n",
      "Epoch 13/100\n",
      "74/74 [==============================] - 0s 4ms/step - loss: 0.2889 - acc: 0.8786 - val_loss: 0.3414 - val_acc: 0.8779\n",
      "Epoch 14/100\n",
      "74/74 [==============================] - 0s 4ms/step - loss: 0.2840 - acc: 0.8785 - val_loss: 0.3353 - val_acc: 0.8778\n",
      "Epoch 15/100\n",
      "74/74 [==============================] - 0s 4ms/step - loss: 0.2810 - acc: 0.8783 - val_loss: 0.3270 - val_acc: 0.8778\n",
      "Epoch 16/100\n",
      "74/74 [==============================] - 0s 4ms/step - loss: 0.2778 - acc: 0.8785 - val_loss: 0.3231 - val_acc: 0.8779\n",
      "Epoch 17/100\n",
      "74/74 [==============================] - 0s 4ms/step - loss: 0.2779 - acc: 0.8785 - val_loss: 0.3316 - val_acc: 0.8778\n",
      "Epoch 18/100\n",
      "74/74 [==============================] - 0s 4ms/step - loss: 0.2746 - acc: 0.8787 - val_loss: 0.3231 - val_acc: 0.8771\n",
      "Epoch 19/100\n",
      "74/74 [==============================] - 0s 4ms/step - loss: 0.2784 - acc: 0.8786 - val_loss: 0.3068 - val_acc: 0.8777\n",
      "Epoch 20/100\n",
      "74/74 [==============================] - 0s 4ms/step - loss: 0.2766 - acc: 0.8789 - val_loss: 0.3053 - val_acc: 0.8778\n",
      "Epoch 21/100\n",
      "74/74 [==============================] - 0s 4ms/step - loss: 0.2704 - acc: 0.8787 - val_loss: 0.3096 - val_acc: 0.8777\n",
      "Epoch 22/100\n",
      "74/74 [==============================] - 0s 4ms/step - loss: 0.2714 - acc: 0.8787 - val_loss: 0.3032 - val_acc: 0.8776\n",
      "Epoch 23/100\n",
      "74/74 [==============================] - 0s 4ms/step - loss: 0.2742 - acc: 0.8788 - val_loss: 0.2986 - val_acc: 0.8776\n",
      "Epoch 24/100\n",
      "74/74 [==============================] - 0s 4ms/step - loss: 0.2661 - acc: 0.8789 - val_loss: 0.3088 - val_acc: 0.8778\n",
      "Epoch 25/100\n",
      "74/74 [==============================] - 0s 4ms/step - loss: 0.2661 - acc: 0.8790 - val_loss: 0.2996 - val_acc: 0.8777\n",
      "Epoch 26/100\n",
      "74/74 [==============================] - 0s 4ms/step - loss: 0.2706 - acc: 0.8789 - val_loss: 0.2926 - val_acc: 0.8778\n",
      "Epoch 27/100\n",
      "74/74 [==============================] - 0s 4ms/step - loss: 0.2638 - acc: 0.8789 - val_loss: 0.2948 - val_acc: 0.8778\n",
      "Epoch 28/100\n",
      "74/74 [==============================] - 0s 4ms/step - loss: 0.2648 - acc: 0.8789 - val_loss: 0.2940 - val_acc: 0.8777\n",
      "Epoch 29/100\n",
      "74/74 [==============================] - 0s 4ms/step - loss: 0.2605 - acc: 0.8791 - val_loss: 0.2955 - val_acc: 0.8775\n",
      "Epoch 30/100\n",
      "74/74 [==============================] - 0s 4ms/step - loss: 0.2607 - acc: 0.8792 - val_loss: 0.2953 - val_acc: 0.8777\n",
      "Epoch 31/100\n",
      "74/74 [==============================] - 0s 4ms/step - loss: 0.2594 - acc: 0.8793 - val_loss: 0.3020 - val_acc: 0.8775\n",
      "Epoch 32/100\n",
      "74/74 [==============================] - 0s 4ms/step - loss: 0.2616 - acc: 0.8790 - val_loss: 0.2945 - val_acc: 0.8776\n",
      "Epoch 33/100\n",
      "74/74 [==============================] - 0s 4ms/step - loss: 0.2683 - acc: 0.8792 - val_loss: 0.3211 - val_acc: 0.8774\n",
      "Epoch 34/100\n",
      "74/74 [==============================] - 0s 4ms/step - loss: 0.2612 - acc: 0.8789 - val_loss: 0.3050 - val_acc: 0.8775\n",
      "Epoch 35/100\n",
      "74/74 [==============================] - 0s 4ms/step - loss: 0.2576 - acc: 0.8792 - val_loss: 0.3120 - val_acc: 0.8776\n",
      "Epoch 36/100\n",
      "74/74 [==============================] - 0s 4ms/step - loss: 0.2603 - acc: 0.8790 - val_loss: 0.2999 - val_acc: 0.8774\n",
      "Epoch 37/100\n",
      "74/74 [==============================] - 0s 4ms/step - loss: 0.2560 - acc: 0.8792 - val_loss: 0.3000 - val_acc: 0.8774\n",
      "Epoch 38/100\n",
      "74/74 [==============================] - 0s 4ms/step - loss: 0.2591 - acc: 0.8791 - val_loss: 0.2946 - val_acc: 0.8776\n",
      "Epoch 39/100\n",
      "74/74 [==============================] - 0s 4ms/step - loss: 0.2563 - acc: 0.8794 - val_loss: 0.3065 - val_acc: 0.8776\n",
      "Epoch 40/100\n",
      "74/74 [==============================] - 0s 4ms/step - loss: 0.2527 - acc: 0.8792 - val_loss: 0.2941 - val_acc: 0.8775\n",
      "Epoch 41/100\n",
      "74/74 [==============================] - 0s 4ms/step - loss: 0.2547 - acc: 0.8792 - val_loss: 0.2918 - val_acc: 0.8777\n",
      "Epoch 42/100\n",
      "74/74 [==============================] - 0s 4ms/step - loss: 0.2526 - acc: 0.8789 - val_loss: 0.2924 - val_acc: 0.8777\n",
      "Epoch 43/100\n",
      "74/74 [==============================] - 0s 4ms/step - loss: 0.2502 - acc: 0.8794 - val_loss: 0.2904 - val_acc: 0.8779\n",
      "Epoch 44/100\n",
      "74/74 [==============================] - 0s 4ms/step - loss: 0.2537 - acc: 0.8792 - val_loss: 0.3007 - val_acc: 0.8779\n",
      "Epoch 45/100\n",
      "74/74 [==============================] - 0s 4ms/step - loss: 0.2506 - acc: 0.8792 - val_loss: 0.2924 - val_acc: 0.8773\n",
      "Epoch 46/100\n",
      "74/74 [==============================] - 0s 4ms/step - loss: 0.2510 - acc: 0.8793 - val_loss: 0.2873 - val_acc: 0.8779\n",
      "Epoch 47/100\n",
      "74/74 [==============================] - 0s 4ms/step - loss: 0.2501 - acc: 0.8797 - val_loss: 0.3047 - val_acc: 0.8776\n",
      "Epoch 48/100\n",
      "74/74 [==============================] - 0s 4ms/step - loss: 0.2511 - acc: 0.8796 - val_loss: 0.2964 - val_acc: 0.8772\n",
      "Epoch 49/100\n",
      "74/74 [==============================] - 0s 4ms/step - loss: 0.2494 - acc: 0.8794 - val_loss: 0.2831 - val_acc: 0.8778\n",
      "Epoch 50/100\n",
      "74/74 [==============================] - 0s 4ms/step - loss: 0.2505 - acc: 0.8793 - val_loss: 0.2800 - val_acc: 0.8780\n",
      "Epoch 51/100\n",
      "74/74 [==============================] - 0s 4ms/step - loss: 0.2501 - acc: 0.8798 - val_loss: 0.2817 - val_acc: 0.8780\n",
      "Epoch 52/100\n",
      "74/74 [==============================] - 0s 4ms/step - loss: 0.2478 - acc: 0.8796 - val_loss: 0.2864 - val_acc: 0.8778\n",
      "Epoch 53/100\n",
      "74/74 [==============================] - 0s 4ms/step - loss: 0.2511 - acc: 0.8795 - val_loss: 0.2858 - val_acc: 0.8778\n",
      "Epoch 54/100\n",
      "74/74 [==============================] - 0s 4ms/step - loss: 0.2455 - acc: 0.8794 - val_loss: 0.2834 - val_acc: 0.8777\n",
      "Epoch 55/100\n",
      "74/74 [==============================] - 0s 4ms/step - loss: 0.2465 - acc: 0.8795 - val_loss: 0.3007 - val_acc: 0.8775\n",
      "Epoch 56/100\n",
      "74/74 [==============================] - 0s 4ms/step - loss: 0.2446 - acc: 0.8792 - val_loss: 0.2977 - val_acc: 0.8773\n",
      "Epoch 57/100\n",
      "74/74 [==============================] - 0s 4ms/step - loss: 0.2428 - acc: 0.8792 - val_loss: 0.2955 - val_acc: 0.8775\n",
      "Epoch 58/100\n",
      "74/74 [==============================] - 0s 4ms/step - loss: 0.2496 - acc: 0.8792 - val_loss: 0.2778 - val_acc: 0.8779\n",
      "Epoch 59/100\n",
      "74/74 [==============================] - 0s 4ms/step - loss: 0.2441 - acc: 0.8792 - val_loss: 0.2881 - val_acc: 0.8778\n",
      "Epoch 60/100\n",
      "74/74 [==============================] - 0s 4ms/step - loss: 0.2447 - acc: 0.8795 - val_loss: 0.2866 - val_acc: 0.8776\n",
      "Epoch 61/100\n",
      "74/74 [==============================] - 0s 4ms/step - loss: 0.2445 - acc: 0.8793 - val_loss: 0.2868 - val_acc: 0.8779\n",
      "Epoch 62/100\n",
      "74/74 [==============================] - 0s 4ms/step - loss: 0.2442 - acc: 0.8793 - val_loss: 0.2848 - val_acc: 0.8779\n",
      "Epoch 63/100\n"
     ]
    },
    {
     "name": "stdout",
     "output_type": "stream",
     "text": [
      "74/74 [==============================] - 0s 4ms/step - loss: 0.2427 - acc: 0.8792 - val_loss: 0.2783 - val_acc: 0.8781\n",
      "Epoch 64/100\n",
      "74/74 [==============================] - 0s 4ms/step - loss: 0.2436 - acc: 0.8795 - val_loss: 0.2806 - val_acc: 0.8783\n",
      "Epoch 65/100\n",
      "74/74 [==============================] - 0s 4ms/step - loss: 0.2443 - acc: 0.8795 - val_loss: 0.2798 - val_acc: 0.8780\n",
      "Epoch 66/100\n",
      "74/74 [==============================] - 0s 4ms/step - loss: 0.2470 - acc: 0.8791 - val_loss: 0.2843 - val_acc: 0.8778\n",
      "Epoch 67/100\n",
      "74/74 [==============================] - 0s 4ms/step - loss: 0.2441 - acc: 0.8790 - val_loss: 0.2719 - val_acc: 0.8778\n",
      "Epoch 68/100\n",
      "74/74 [==============================] - 0s 4ms/step - loss: 0.2404 - acc: 0.8790 - val_loss: 0.2805 - val_acc: 0.8778\n",
      "Epoch 69/100\n",
      "74/74 [==============================] - 0s 4ms/step - loss: 0.2411 - acc: 0.8796 - val_loss: 0.2735 - val_acc: 0.8779\n",
      "Epoch 70/100\n",
      "74/74 [==============================] - 0s 4ms/step - loss: 0.2399 - acc: 0.8795 - val_loss: 0.2794 - val_acc: 0.8782\n",
      "Epoch 71/100\n",
      "74/74 [==============================] - 0s 4ms/step - loss: 0.2412 - acc: 0.8795 - val_loss: 0.2816 - val_acc: 0.8781\n",
      "Epoch 72/100\n",
      "74/74 [==============================] - 0s 4ms/step - loss: 0.2411 - acc: 0.8796 - val_loss: 0.3022 - val_acc: 0.8766\n",
      "Epoch 73/100\n",
      "74/74 [==============================] - 0s 4ms/step - loss: 0.2394 - acc: 0.8796 - val_loss: 0.2830 - val_acc: 0.8783\n",
      "Epoch 74/100\n",
      "74/74 [==============================] - 0s 4ms/step - loss: 0.2390 - acc: 0.8797 - val_loss: 0.2782 - val_acc: 0.8784\n",
      "Epoch 75/100\n",
      "74/74 [==============================] - 0s 4ms/step - loss: 0.2386 - acc: 0.8798 - val_loss: 0.2809 - val_acc: 0.8782\n",
      "Epoch 76/100\n",
      "74/74 [==============================] - 0s 4ms/step - loss: 0.2403 - acc: 0.8795 - val_loss: 0.2783 - val_acc: 0.8780\n",
      "Epoch 77/100\n",
      "74/74 [==============================] - 0s 4ms/step - loss: 0.2420 - acc: 0.8793 - val_loss: 0.2688 - val_acc: 0.8780\n",
      "Epoch 78/100\n",
      "74/74 [==============================] - 0s 4ms/step - loss: 0.2358 - acc: 0.8795 - val_loss: 0.2690 - val_acc: 0.8782\n",
      "Epoch 79/100\n",
      "74/74 [==============================] - 0s 4ms/step - loss: 0.2374 - acc: 0.8790 - val_loss: 0.2820 - val_acc: 0.8780\n",
      "Epoch 80/100\n",
      "74/74 [==============================] - 0s 4ms/step - loss: 0.2340 - acc: 0.8794 - val_loss: 0.2882 - val_acc: 0.8780\n",
      "Epoch 81/100\n",
      "74/74 [==============================] - 0s 4ms/step - loss: 0.2368 - acc: 0.8790 - val_loss: 0.2964 - val_acc: 0.8778\n",
      "Epoch 82/100\n",
      "74/74 [==============================] - 0s 4ms/step - loss: 0.2344 - acc: 0.8797 - val_loss: 0.2917 - val_acc: 0.8779\n",
      "Epoch 83/100\n",
      "74/74 [==============================] - 0s 4ms/step - loss: 0.2341 - acc: 0.8794 - val_loss: 0.2956 - val_acc: 0.8781\n",
      "Epoch 84/100\n",
      "74/74 [==============================] - 0s 4ms/step - loss: 0.2315 - acc: 0.8791 - val_loss: 0.3001 - val_acc: 0.8780\n",
      "Epoch 85/100\n",
      "74/74 [==============================] - 0s 4ms/step - loss: 0.2327 - acc: 0.8797 - val_loss: 0.2997 - val_acc: 0.8781\n",
      "Epoch 86/100\n",
      "74/74 [==============================] - 0s 4ms/step - loss: 0.2311 - acc: 0.8794 - val_loss: 0.3023 - val_acc: 0.8781\n",
      "Epoch 87/100\n",
      "74/74 [==============================] - 0s 4ms/step - loss: 0.2335 - acc: 0.8797 - val_loss: 0.2966 - val_acc: 0.8782\n",
      "Epoch 88/100\n",
      "74/74 [==============================] - 0s 4ms/step - loss: 0.2352 - acc: 0.8789 - val_loss: 0.2844 - val_acc: 0.8781\n",
      "Epoch 89/100\n",
      "74/74 [==============================] - 0s 4ms/step - loss: 0.2339 - acc: 0.8793 - val_loss: 0.2812 - val_acc: 0.8782\n",
      "Epoch 90/100\n",
      "74/74 [==============================] - 0s 4ms/step - loss: 0.2335 - acc: 0.8791 - val_loss: 0.2795 - val_acc: 0.8781\n",
      "Epoch 91/100\n",
      "74/74 [==============================] - 0s 4ms/step - loss: 0.2385 - acc: 0.8794 - val_loss: 0.2843 - val_acc: 0.8781\n",
      "Epoch 92/100\n",
      "74/74 [==============================] - 0s 4ms/step - loss: 0.2349 - acc: 0.8793 - val_loss: 0.2766 - val_acc: 0.8779\n",
      "Epoch 93/100\n",
      "74/74 [==============================] - 0s 4ms/step - loss: 0.2304 - acc: 0.8793 - val_loss: 0.2741 - val_acc: 0.8783\n",
      "Epoch 94/100\n",
      "74/74 [==============================] - 0s 4ms/step - loss: 0.2290 - acc: 0.8794 - val_loss: 0.2773 - val_acc: 0.8785\n",
      "Epoch 95/100\n",
      "74/74 [==============================] - 0s 4ms/step - loss: 0.2310 - acc: 0.8794 - val_loss: 0.2701 - val_acc: 0.8780\n",
      "Epoch 96/100\n",
      "74/74 [==============================] - 0s 4ms/step - loss: 0.2289 - acc: 0.8791 - val_loss: 0.2742 - val_acc: 0.8779\n",
      "Epoch 97/100\n",
      "74/74 [==============================] - 0s 4ms/step - loss: 0.2259 - acc: 0.8933 - val_loss: 0.2674 - val_acc: 0.8986\n",
      "Epoch 98/100\n",
      "74/74 [==============================] - 0s 4ms/step - loss: 0.2248 - acc: 0.8959 - val_loss: 0.2731 - val_acc: 0.8957\n",
      "Epoch 99/100\n",
      "74/74 [==============================] - 0s 4ms/step - loss: 0.2262 - acc: 0.8954 - val_loss: 0.2741 - val_acc: 0.8977\n",
      "Epoch 100/100\n",
      "74/74 [==============================] - 0s 4ms/step - loss: 0.2286 - acc: 0.8953 - val_loss: 0.2688 - val_acc: 0.8981\n"
     ]
    }
   ],
   "source": [
    "callback = tf.keras.callbacks.EarlyStopping(monitor='loss', patience=10, restore_best_weights=True)\n",
    "history = model.fit(train_df.values, y,\n",
    "                    batch_size = 256,\n",
    "                    validation_data=(test_df.values, y_val),\n",
    "                    epochs=100\n",
    "                   )"
   ]
  },
  {
   "cell_type": "code",
   "execution_count": 61,
   "metadata": {
    "scrolled": true
   },
   "outputs": [
    {
     "name": "stdout",
     "output_type": "stream",
     "text": [
      "INFO:tensorflow:Assets written to: ../models/naive_final1/assets\n"
     ]
    },
    {
     "data": {
      "text/plain": [
       "'../models/naive_final1'"
      ]
     },
     "execution_count": 61,
     "metadata": {},
     "output_type": "execute_result"
    }
   ],
   "source": [
    "bnn.save_model(model, '../models/naive_final', history=history)"
   ]
  },
  {
   "cell_type": "code",
   "execution_count": null,
   "metadata": {},
   "outputs": [],
   "source": []
  },
  {
   "cell_type": "code",
   "execution_count": 87,
   "metadata": {},
   "outputs": [],
   "source": [
    "# train without wishbone\n",
    "train_df.drop(['branch', 'trajectory'], axis=1, inplace=True)\n",
    "test_df.drop(['branch', 'trajectory'], axis=1, inplace=True)"
   ]
  },
  {
   "cell_type": "code",
   "execution_count": 66,
   "metadata": {},
   "outputs": [],
   "source": [
    "model = get_model(train_df.shape[1])\n",
    "model.compile(loss='binary_crossentropy', optimizer='adam', metrics=[\"acc\"])"
   ]
  },
  {
   "cell_type": "code",
   "execution_count": 67,
   "metadata": {
    "scrolled": true
   },
   "outputs": [
    {
     "name": "stdout",
     "output_type": "stream",
     "text": [
      "Epoch 1/100\n",
      "74/74 [==============================] - 0s 5ms/step - loss: 14.8163 - acc: 0.7663 - val_loss: 2.6757 - val_acc: 0.8384\n",
      "Epoch 2/100\n",
      "74/74 [==============================] - 0s 4ms/step - loss: 1.8643 - acc: 0.8446 - val_loss: 0.7254 - val_acc: 0.8681\n",
      "Epoch 3/100\n",
      "74/74 [==============================] - 0s 4ms/step - loss: 0.6121 - acc: 0.8735 - val_loss: 0.4736 - val_acc: 0.8772\n",
      "Epoch 4/100\n",
      "74/74 [==============================] - 0s 4ms/step - loss: 0.4899 - acc: 0.8764 - val_loss: 0.4112 - val_acc: 0.8771\n",
      "Epoch 5/100\n",
      "74/74 [==============================] - 0s 4ms/step - loss: 0.4343 - acc: 0.8777 - val_loss: 0.3755 - val_acc: 0.8775\n",
      "Epoch 6/100\n",
      "74/74 [==============================] - 0s 4ms/step - loss: 0.3935 - acc: 0.8782 - val_loss: 0.3539 - val_acc: 0.8781\n",
      "Epoch 7/100\n",
      "74/74 [==============================] - 0s 4ms/step - loss: 0.3676 - acc: 0.8784 - val_loss: 0.3395 - val_acc: 0.8780\n",
      "Epoch 8/100\n",
      "74/74 [==============================] - 0s 4ms/step - loss: 0.3541 - acc: 0.8784 - val_loss: 0.3314 - val_acc: 0.8780\n",
      "Epoch 9/100\n",
      "74/74 [==============================] - 0s 4ms/step - loss: 0.3456 - acc: 0.8784 - val_loss: 0.3247 - val_acc: 0.8781\n",
      "Epoch 10/100\n",
      "74/74 [==============================] - 0s 4ms/step - loss: 0.3353 - acc: 0.8785 - val_loss: 0.3192 - val_acc: 0.8780\n",
      "Epoch 11/100\n",
      "74/74 [==============================] - 0s 4ms/step - loss: 0.3317 - acc: 0.8785 - val_loss: 0.3159 - val_acc: 0.8780\n",
      "Epoch 12/100\n",
      "74/74 [==============================] - 0s 4ms/step - loss: 0.3231 - acc: 0.8787 - val_loss: 0.3083 - val_acc: 0.8780\n",
      "Epoch 13/100\n",
      "74/74 [==============================] - 0s 4ms/step - loss: 0.3195 - acc: 0.8785 - val_loss: 0.3032 - val_acc: 0.8780\n",
      "Epoch 14/100\n",
      "74/74 [==============================] - 0s 4ms/step - loss: 0.3142 - acc: 0.8785 - val_loss: 0.3009 - val_acc: 0.8780\n",
      "Epoch 15/100\n",
      "74/74 [==============================] - 0s 4ms/step - loss: 0.3104 - acc: 0.8786 - val_loss: 0.2966 - val_acc: 0.8780\n",
      "Epoch 16/100\n",
      "74/74 [==============================] - 0s 4ms/step - loss: 0.3032 - acc: 0.8785 - val_loss: 0.2938 - val_acc: 0.8781\n",
      "Epoch 17/100\n",
      "74/74 [==============================] - 0s 4ms/step - loss: 0.2988 - acc: 0.8786 - val_loss: 0.2916 - val_acc: 0.8780\n",
      "Epoch 18/100\n",
      "74/74 [==============================] - 0s 4ms/step - loss: 0.2942 - acc: 0.8785 - val_loss: 0.2904 - val_acc: 0.8780\n",
      "Epoch 19/100\n",
      "74/74 [==============================] - 0s 4ms/step - loss: 0.2927 - acc: 0.8785 - val_loss: 0.2884 - val_acc: 0.8780\n",
      "Epoch 20/100\n",
      "74/74 [==============================] - 0s 4ms/step - loss: 0.2883 - acc: 0.8787 - val_loss: 0.2858 - val_acc: 0.8780\n",
      "Epoch 21/100\n",
      "74/74 [==============================] - 0s 4ms/step - loss: 0.2849 - acc: 0.8786 - val_loss: 0.2860 - val_acc: 0.8780\n",
      "Epoch 22/100\n",
      "74/74 [==============================] - 0s 4ms/step - loss: 0.2826 - acc: 0.8787 - val_loss: 0.2856 - val_acc: 0.8781\n",
      "Epoch 23/100\n",
      "74/74 [==============================] - 0s 4ms/step - loss: 0.2807 - acc: 0.8787 - val_loss: 0.2823 - val_acc: 0.8779\n",
      "Epoch 24/100\n",
      "74/74 [==============================] - 0s 4ms/step - loss: 0.2771 - acc: 0.8787 - val_loss: 0.2820 - val_acc: 0.8779\n",
      "Epoch 25/100\n",
      "74/74 [==============================] - 0s 4ms/step - loss: 0.2761 - acc: 0.8787 - val_loss: 0.2791 - val_acc: 0.8779\n",
      "Epoch 26/100\n",
      "74/74 [==============================] - 0s 4ms/step - loss: 0.2735 - acc: 0.8787 - val_loss: 0.2780 - val_acc: 0.8780\n",
      "Epoch 27/100\n",
      "74/74 [==============================] - 0s 4ms/step - loss: 0.2719 - acc: 0.8787 - val_loss: 0.2795 - val_acc: 0.8780\n",
      "Epoch 28/100\n",
      "74/74 [==============================] - 0s 4ms/step - loss: 0.2689 - acc: 0.8787 - val_loss: 0.2743 - val_acc: 0.8779\n",
      "Epoch 29/100\n",
      "74/74 [==============================] - 0s 4ms/step - loss: 0.2681 - acc: 0.8787 - val_loss: 0.2728 - val_acc: 0.8779\n",
      "Epoch 30/100\n",
      "74/74 [==============================] - 0s 4ms/step - loss: 0.2661 - acc: 0.8787 - val_loss: 0.2717 - val_acc: 0.8779\n",
      "Epoch 31/100\n",
      "74/74 [==============================] - 0s 4ms/step - loss: 0.2656 - acc: 0.8787 - val_loss: 0.2713 - val_acc: 0.8780\n",
      "Epoch 32/100\n",
      "74/74 [==============================] - 0s 4ms/step - loss: 0.2628 - acc: 0.8787 - val_loss: 0.2695 - val_acc: 0.8780\n",
      "Epoch 33/100\n",
      "74/74 [==============================] - 0s 4ms/step - loss: 0.2617 - acc: 0.8787 - val_loss: 0.2694 - val_acc: 0.8779\n",
      "Epoch 34/100\n",
      "74/74 [==============================] - 0s 4ms/step - loss: 0.2625 - acc: 0.8786 - val_loss: 0.2673 - val_acc: 0.8780\n",
      "Epoch 35/100\n",
      "74/74 [==============================] - 0s 4ms/step - loss: 0.2602 - acc: 0.8787 - val_loss: 0.2686 - val_acc: 0.8779\n",
      "Epoch 36/100\n",
      "74/74 [==============================] - 0s 4ms/step - loss: 0.2606 - acc: 0.8787 - val_loss: 0.2696 - val_acc: 0.8779\n",
      "Epoch 37/100\n",
      "74/74 [==============================] - 0s 4ms/step - loss: 0.2589 - acc: 0.8788 - val_loss: 0.2676 - val_acc: 0.8779\n",
      "Epoch 38/100\n",
      "74/74 [==============================] - 0s 4ms/step - loss: 0.2595 - acc: 0.8787 - val_loss: 0.2648 - val_acc: 0.8779\n",
      "Epoch 39/100\n",
      "74/74 [==============================] - 0s 4ms/step - loss: 0.2574 - acc: 0.8788 - val_loss: 0.2665 - val_acc: 0.8779\n",
      "Epoch 40/100\n",
      "74/74 [==============================] - 0s 4ms/step - loss: 0.2580 - acc: 0.8788 - val_loss: 0.2690 - val_acc: 0.8779\n",
      "Epoch 41/100\n",
      "74/74 [==============================] - 0s 4ms/step - loss: 0.2578 - acc: 0.8788 - val_loss: 0.2646 - val_acc: 0.8779\n",
      "Epoch 42/100\n",
      "74/74 [==============================] - 0s 4ms/step - loss: 0.2566 - acc: 0.8787 - val_loss: 0.2635 - val_acc: 0.8779\n",
      "Epoch 43/100\n",
      "74/74 [==============================] - 0s 4ms/step - loss: 0.2545 - acc: 0.8788 - val_loss: 0.2624 - val_acc: 0.8779\n",
      "Epoch 44/100\n",
      "74/74 [==============================] - 0s 4ms/step - loss: 0.2554 - acc: 0.8788 - val_loss: 0.2647 - val_acc: 0.8778\n",
      "Epoch 45/100\n",
      "74/74 [==============================] - 0s 4ms/step - loss: 0.2571 - acc: 0.8788 - val_loss: 0.2657 - val_acc: 0.8778\n",
      "Epoch 46/100\n",
      "74/74 [==============================] - 0s 4ms/step - loss: 0.2545 - acc: 0.8787 - val_loss: 0.2634 - val_acc: 0.8778\n",
      "Epoch 47/100\n",
      "74/74 [==============================] - 0s 4ms/step - loss: 0.2556 - acc: 0.8788 - val_loss: 0.2655 - val_acc: 0.8778\n",
      "Epoch 48/100\n",
      "74/74 [==============================] - 0s 4ms/step - loss: 0.2527 - acc: 0.8787 - val_loss: 0.2622 - val_acc: 0.8778\n",
      "Epoch 49/100\n",
      "74/74 [==============================] - 0s 4ms/step - loss: 0.2519 - acc: 0.8787 - val_loss: 0.2627 - val_acc: 0.8778\n",
      "Epoch 50/100\n",
      "74/74 [==============================] - 0s 4ms/step - loss: 0.2514 - acc: 0.8787 - val_loss: 0.2618 - val_acc: 0.8778\n",
      "Epoch 51/100\n",
      "74/74 [==============================] - 0s 4ms/step - loss: 0.2524 - acc: 0.8788 - val_loss: 0.2592 - val_acc: 0.8778\n",
      "Epoch 52/100\n",
      "74/74 [==============================] - 0s 4ms/step - loss: 0.2515 - acc: 0.8786 - val_loss: 0.2601 - val_acc: 0.8778\n",
      "Epoch 53/100\n",
      "74/74 [==============================] - 0s 4ms/step - loss: 0.2518 - acc: 0.8787 - val_loss: 0.2665 - val_acc: 0.8777\n",
      "Epoch 54/100\n",
      "74/74 [==============================] - 0s 4ms/step - loss: 0.2506 - acc: 0.8785 - val_loss: 0.2661 - val_acc: 0.8778\n",
      "Epoch 55/100\n",
      "74/74 [==============================] - 0s 4ms/step - loss: 0.2513 - acc: 0.8786 - val_loss: 0.2622 - val_acc: 0.8778\n",
      "Epoch 56/100\n",
      "74/74 [==============================] - 0s 4ms/step - loss: 0.2501 - acc: 0.8786 - val_loss: 0.2578 - val_acc: 0.8777\n",
      "Epoch 57/100\n",
      "74/74 [==============================] - 0s 4ms/step - loss: 0.2499 - acc: 0.8786 - val_loss: 0.2588 - val_acc: 0.8778\n",
      "Epoch 58/100\n",
      "74/74 [==============================] - 0s 4ms/step - loss: 0.2537 - acc: 0.8787 - val_loss: 0.2575 - val_acc: 0.8778\n",
      "Epoch 59/100\n",
      "74/74 [==============================] - 0s 4ms/step - loss: 0.2478 - acc: 0.8787 - val_loss: 0.2603 - val_acc: 0.8777\n",
      "Epoch 60/100\n",
      "74/74 [==============================] - 0s 4ms/step - loss: 0.2468 - acc: 0.8787 - val_loss: 0.2583 - val_acc: 0.8777\n",
      "Epoch 61/100\n",
      "74/74 [==============================] - 0s 4ms/step - loss: 0.2469 - acc: 0.8787 - val_loss: 0.2563 - val_acc: 0.8777\n",
      "Epoch 62/100\n",
      "74/74 [==============================] - 0s 4ms/step - loss: 0.2483 - acc: 0.8786 - val_loss: 0.2538 - val_acc: 0.8777\n",
      "Epoch 63/100\n"
     ]
    },
    {
     "name": "stdout",
     "output_type": "stream",
     "text": [
      "74/74 [==============================] - 0s 4ms/step - loss: 0.2453 - acc: 0.8787 - val_loss: 0.2588 - val_acc: 0.8777\n",
      "Epoch 64/100\n",
      "74/74 [==============================] - 0s 4ms/step - loss: 0.2475 - acc: 0.8787 - val_loss: 0.2632 - val_acc: 0.8777\n",
      "Epoch 65/100\n",
      "74/74 [==============================] - 0s 4ms/step - loss: 0.2468 - acc: 0.8787 - val_loss: 0.2583 - val_acc: 0.8777\n",
      "Epoch 66/100\n",
      "74/74 [==============================] - 0s 4ms/step - loss: 0.2444 - acc: 0.8786 - val_loss: 0.2554 - val_acc: 0.8777\n",
      "Epoch 67/100\n",
      "74/74 [==============================] - 0s 4ms/step - loss: 0.2440 - acc: 0.8785 - val_loss: 0.2559 - val_acc: 0.8779\n",
      "Epoch 68/100\n",
      "74/74 [==============================] - 0s 4ms/step - loss: 0.2408 - acc: 0.8786 - val_loss: 0.2559 - val_acc: 0.8779\n",
      "Epoch 69/100\n",
      "74/74 [==============================] - 0s 4ms/step - loss: 0.2401 - acc: 0.8786 - val_loss: 0.2549 - val_acc: 0.8780\n",
      "Epoch 70/100\n",
      "74/74 [==============================] - 0s 4ms/step - loss: 0.2442 - acc: 0.8786 - val_loss: 0.2585 - val_acc: 0.8779\n",
      "Epoch 71/100\n",
      "74/74 [==============================] - 0s 4ms/step - loss: 0.2406 - acc: 0.8786 - val_loss: 0.2593 - val_acc: 0.8779\n",
      "Epoch 72/100\n",
      "74/74 [==============================] - 0s 4ms/step - loss: 0.2419 - acc: 0.8784 - val_loss: 0.2535 - val_acc: 0.8778\n",
      "Epoch 73/100\n",
      "74/74 [==============================] - 0s 4ms/step - loss: 0.2407 - acc: 0.8786 - val_loss: 0.2525 - val_acc: 0.8778\n",
      "Epoch 74/100\n",
      "74/74 [==============================] - 0s 4ms/step - loss: 0.2409 - acc: 0.8786 - val_loss: 0.2554 - val_acc: 0.8779\n",
      "Epoch 75/100\n",
      "74/74 [==============================] - 0s 4ms/step - loss: 0.2391 - acc: 0.8786 - val_loss: 0.2553 - val_acc: 0.8778\n",
      "Epoch 76/100\n",
      "74/74 [==============================] - 0s 4ms/step - loss: 0.2389 - acc: 0.8785 - val_loss: 0.2566 - val_acc: 0.8780\n",
      "Epoch 77/100\n",
      "74/74 [==============================] - 0s 4ms/step - loss: 0.2400 - acc: 0.8786 - val_loss: 0.2527 - val_acc: 0.8779\n",
      "Epoch 78/100\n",
      "74/74 [==============================] - 0s 4ms/step - loss: 0.2351 - acc: 0.8785 - val_loss: 0.2540 - val_acc: 0.8781\n",
      "Epoch 79/100\n",
      "74/74 [==============================] - 0s 4ms/step - loss: 0.2379 - acc: 0.8787 - val_loss: 0.2533 - val_acc: 0.8781\n",
      "Epoch 80/100\n",
      "74/74 [==============================] - 0s 4ms/step - loss: 0.2403 - acc: 0.8787 - val_loss: 0.2509 - val_acc: 0.8781\n",
      "Epoch 81/100\n",
      "74/74 [==============================] - 0s 4ms/step - loss: 0.2360 - acc: 0.8786 - val_loss: 0.2587 - val_acc: 0.8781\n",
      "Epoch 82/100\n",
      "74/74 [==============================] - 0s 4ms/step - loss: 0.2393 - acc: 0.8786 - val_loss: 0.2502 - val_acc: 0.8781\n",
      "Epoch 83/100\n",
      "74/74 [==============================] - 0s 4ms/step - loss: 0.2398 - acc: 0.8787 - val_loss: 0.2478 - val_acc: 0.8781\n",
      "Epoch 84/100\n",
      "74/74 [==============================] - 0s 4ms/step - loss: 0.2386 - acc: 0.8786 - val_loss: 0.2618 - val_acc: 0.8781\n",
      "Epoch 85/100\n",
      "74/74 [==============================] - 0s 4ms/step - loss: 0.2352 - acc: 0.8786 - val_loss: 0.2561 - val_acc: 0.8781\n",
      "Epoch 86/100\n",
      "74/74 [==============================] - 0s 4ms/step - loss: 0.2351 - acc: 0.8787 - val_loss: 0.2558 - val_acc: 0.8781\n",
      "Epoch 87/100\n",
      "74/74 [==============================] - 0s 4ms/step - loss: 0.2334 - acc: 0.8787 - val_loss: 0.2544 - val_acc: 0.8781\n",
      "Epoch 88/100\n",
      "74/74 [==============================] - 0s 4ms/step - loss: 0.2365 - acc: 0.8786 - val_loss: 0.2488 - val_acc: 0.8781\n",
      "Epoch 89/100\n",
      "74/74 [==============================] - 0s 4ms/step - loss: 0.2368 - acc: 0.8786 - val_loss: 0.2483 - val_acc: 0.8781\n",
      "Epoch 90/100\n",
      "74/74 [==============================] - 0s 4ms/step - loss: 0.2345 - acc: 0.8787 - val_loss: 0.2501 - val_acc: 0.8782\n",
      "Epoch 91/100\n",
      "74/74 [==============================] - 0s 4ms/step - loss: 0.2338 - acc: 0.8786 - val_loss: 0.2467 - val_acc: 0.8782\n",
      "Epoch 92/100\n",
      "74/74 [==============================] - 0s 4ms/step - loss: 0.2307 - acc: 0.8786 - val_loss: 0.2541 - val_acc: 0.8782\n",
      "Epoch 93/100\n",
      "74/74 [==============================] - 0s 4ms/step - loss: 0.2316 - acc: 0.8787 - val_loss: 0.2473 - val_acc: 0.8782\n",
      "Epoch 94/100\n",
      "74/74 [==============================] - 0s 4ms/step - loss: 0.2309 - acc: 0.8787 - val_loss: 0.2464 - val_acc: 0.8782\n",
      "Epoch 95/100\n",
      "74/74 [==============================] - 0s 4ms/step - loss: 0.2264 - acc: 0.8786 - val_loss: 0.2468 - val_acc: 0.8781\n",
      "Epoch 96/100\n",
      "74/74 [==============================] - 0s 4ms/step - loss: 0.2281 - acc: 0.8787 - val_loss: 0.2488 - val_acc: 0.8782\n",
      "Epoch 97/100\n",
      "74/74 [==============================] - 0s 4ms/step - loss: 0.2267 - acc: 0.8787 - val_loss: 0.2572 - val_acc: 0.8782\n",
      "Epoch 98/100\n",
      "74/74 [==============================] - 0s 4ms/step - loss: 0.2269 - acc: 0.8785 - val_loss: 0.2482 - val_acc: 0.8782\n",
      "Epoch 99/100\n",
      "74/74 [==============================] - 0s 4ms/step - loss: 0.2262 - acc: 0.8786 - val_loss: 0.2476 - val_acc: 0.8782\n",
      "Epoch 100/100\n",
      "74/74 [==============================] - 0s 4ms/step - loss: 0.2265 - acc: 0.8786 - val_loss: 0.2423 - val_acc: 0.8782\n"
     ]
    }
   ],
   "source": [
    "callback = tf.keras.callbacks.EarlyStopping(monitor='loss', patience=10, restore_best_weights=True)\n",
    "history = model.fit(train_df.values, y,\n",
    "                    batch_size = 256,\n",
    "                    validation_data=(test_df.values, y_val),\n",
    "                    epochs=100\n",
    "                   )"
   ]
  },
  {
   "cell_type": "code",
   "execution_count": 68,
   "metadata": {
    "scrolled": false
   },
   "outputs": [
    {
     "name": "stdout",
     "output_type": "stream",
     "text": [
      "INFO:tensorflow:Assets written to: ../models/naive_no_wishbone_final0/assets\n"
     ]
    },
    {
     "data": {
      "text/plain": [
       "'../models/naive_no_wishbone_final0'"
      ]
     },
     "execution_count": 68,
     "metadata": {},
     "output_type": "execute_result"
    }
   ],
   "source": [
    "bnn.save_model(model, '../models/naive_no_wishbone_final', history=history)"
   ]
  },
  {
   "cell_type": "code",
   "execution_count": null,
   "metadata": {},
   "outputs": [],
   "source": []
  },
  {
   "cell_type": "code",
   "execution_count": null,
   "metadata": {},
   "outputs": [],
   "source": []
  },
  {
   "cell_type": "code",
   "execution_count": null,
   "metadata": {},
   "outputs": [],
   "source": []
  },
  {
   "cell_type": "code",
   "execution_count": 95,
   "metadata": {},
   "outputs": [],
   "source": [
    "# train with pca\n",
    "from sklearn.decomposition import PCA\n",
    "from sklearn.preprocessing import StandardScaler\n",
    "\n",
    "pca = PCA(20)\n",
    "train_df = StandardScaler().fit_transform(train_df)\n",
    "test_df = StandardScaler().fit_transform(test_df)\n",
    "\n",
    "train_df_pca = pca.fit_transform(train_df)\n",
    "test_df_pca = pca.transform(test_df)"
   ]
  },
  {
   "cell_type": "code",
   "execution_count": 96,
   "metadata": {},
   "outputs": [],
   "source": [
    "model = get_model(train_df_pca.shape[1])\n",
    "model.compile(loss='binary_crossentropy', optimizer='adam', metrics=[\"acc\"])"
   ]
  },
  {
   "cell_type": "code",
   "execution_count": 97,
   "metadata": {
    "scrolled": true
   },
   "outputs": [
    {
     "name": "stdout",
     "output_type": "stream",
     "text": [
      "Epoch 1/100\n",
      "147/147 [==============================] - 1s 4ms/step - loss: 0.5969 - acc: 0.7712 - val_loss: 0.4136 - val_acc: 0.8782\n",
      "Epoch 2/100\n",
      "147/147 [==============================] - 1s 4ms/step - loss: 0.3675 - acc: 0.8784 - val_loss: 0.3342 - val_acc: 0.8781\n",
      "Epoch 3/100\n",
      "147/147 [==============================] - 1s 4ms/step - loss: 0.3233 - acc: 0.8781 - val_loss: 0.3126 - val_acc: 0.8782\n",
      "Epoch 4/100\n",
      "147/147 [==============================] - 1s 4ms/step - loss: 0.3051 - acc: 0.8791 - val_loss: 0.3033 - val_acc: 0.8789\n",
      "Epoch 5/100\n",
      "147/147 [==============================] - 1s 4ms/step - loss: 0.2972 - acc: 0.8792 - val_loss: 0.2977 - val_acc: 0.8792\n",
      "Epoch 6/100\n",
      "147/147 [==============================] - 1s 4ms/step - loss: 0.2919 - acc: 0.8815 - val_loss: 0.2912 - val_acc: 0.8807\n",
      "Epoch 7/100\n",
      "147/147 [==============================] - 1s 4ms/step - loss: 0.2857 - acc: 0.8834 - val_loss: 0.2880 - val_acc: 0.8823\n",
      "Epoch 8/100\n",
      "147/147 [==============================] - 1s 4ms/step - loss: 0.2814 - acc: 0.8839 - val_loss: 0.2814 - val_acc: 0.8818\n",
      "Epoch 9/100\n",
      "147/147 [==============================] - 1s 4ms/step - loss: 0.2779 - acc: 0.8851 - val_loss: 0.2772 - val_acc: 0.8834\n",
      "Epoch 10/100\n",
      "147/147 [==============================] - 1s 4ms/step - loss: 0.2711 - acc: 0.8887 - val_loss: 0.2743 - val_acc: 0.8850\n",
      "Epoch 11/100\n",
      "147/147 [==============================] - 1s 4ms/step - loss: 0.2656 - acc: 0.8885 - val_loss: 0.2725 - val_acc: 0.8843\n",
      "Epoch 12/100\n",
      "147/147 [==============================] - 1s 4ms/step - loss: 0.2615 - acc: 0.8906 - val_loss: 0.2661 - val_acc: 0.8895\n",
      "Epoch 13/100\n",
      "147/147 [==============================] - 1s 4ms/step - loss: 0.2588 - acc: 0.8916 - val_loss: 0.2656 - val_acc: 0.8900\n",
      "Epoch 14/100\n",
      "147/147 [==============================] - 1s 4ms/step - loss: 0.2573 - acc: 0.8926 - val_loss: 0.2632 - val_acc: 0.8906\n",
      "Epoch 15/100\n",
      "147/147 [==============================] - 1s 4ms/step - loss: 0.2537 - acc: 0.8944 - val_loss: 0.2600 - val_acc: 0.8926\n",
      "Epoch 16/100\n",
      "147/147 [==============================] - 1s 4ms/step - loss: 0.2504 - acc: 0.8951 - val_loss: 0.2589 - val_acc: 0.8921\n",
      "Epoch 17/100\n",
      "147/147 [==============================] - 1s 4ms/step - loss: 0.2462 - acc: 0.8973 - val_loss: 0.2581 - val_acc: 0.8928\n",
      "Epoch 18/100\n",
      "147/147 [==============================] - 1s 4ms/step - loss: 0.2469 - acc: 0.8968 - val_loss: 0.2571 - val_acc: 0.8924\n",
      "Epoch 19/100\n",
      "147/147 [==============================] - 1s 4ms/step - loss: 0.2445 - acc: 0.8979 - val_loss: 0.2560 - val_acc: 0.8931\n",
      "Epoch 20/100\n",
      "147/147 [==============================] - 1s 4ms/step - loss: 0.2415 - acc: 0.8979 - val_loss: 0.2562 - val_acc: 0.8934\n",
      "Epoch 21/100\n",
      "147/147 [==============================] - 1s 4ms/step - loss: 0.2424 - acc: 0.8997 - val_loss: 0.2537 - val_acc: 0.8952\n",
      "Epoch 22/100\n",
      "147/147 [==============================] - 1s 4ms/step - loss: 0.2370 - acc: 0.8994 - val_loss: 0.2522 - val_acc: 0.8945\n",
      "Epoch 23/100\n",
      "147/147 [==============================] - 1s 4ms/step - loss: 0.2376 - acc: 0.8998 - val_loss: 0.2534 - val_acc: 0.8953\n",
      "Epoch 24/100\n",
      "147/147 [==============================] - 1s 4ms/step - loss: 0.2367 - acc: 0.9007 - val_loss: 0.2504 - val_acc: 0.8962\n",
      "Epoch 25/100\n",
      "147/147 [==============================] - 1s 4ms/step - loss: 0.2363 - acc: 0.9011 - val_loss: 0.2520 - val_acc: 0.8972\n",
      "Epoch 26/100\n",
      "147/147 [==============================] - 1s 4ms/step - loss: 0.2339 - acc: 0.9015 - val_loss: 0.2526 - val_acc: 0.8952\n",
      "Epoch 27/100\n",
      "147/147 [==============================] - 1s 4ms/step - loss: 0.2321 - acc: 0.9022 - val_loss: 0.2527 - val_acc: 0.8968\n",
      "Epoch 28/100\n",
      "147/147 [==============================] - 1s 4ms/step - loss: 0.2333 - acc: 0.9018 - val_loss: 0.2524 - val_acc: 0.8960\n",
      "Epoch 29/100\n",
      "147/147 [==============================] - 1s 4ms/step - loss: 0.2301 - acc: 0.9031 - val_loss: 0.2501 - val_acc: 0.8972\n",
      "Epoch 30/100\n",
      "147/147 [==============================] - 1s 4ms/step - loss: 0.2288 - acc: 0.9042 - val_loss: 0.2495 - val_acc: 0.8981\n",
      "Epoch 31/100\n",
      "147/147 [==============================] - 1s 4ms/step - loss: 0.2275 - acc: 0.9042 - val_loss: 0.2499 - val_acc: 0.8981\n",
      "Epoch 32/100\n",
      "147/147 [==============================] - 1s 4ms/step - loss: 0.2277 - acc: 0.9035 - val_loss: 0.2501 - val_acc: 0.8991\n",
      "Epoch 33/100\n",
      "147/147 [==============================] - 1s 4ms/step - loss: 0.2253 - acc: 0.9060 - val_loss: 0.2505 - val_acc: 0.8972\n",
      "Epoch 34/100\n",
      "147/147 [==============================] - 1s 4ms/step - loss: 0.2242 - acc: 0.9067 - val_loss: 0.2491 - val_acc: 0.8970\n",
      "Epoch 35/100\n",
      "147/147 [==============================] - 1s 4ms/step - loss: 0.2252 - acc: 0.9030 - val_loss: 0.2503 - val_acc: 0.8983\n",
      "Epoch 36/100\n",
      "147/147 [==============================] - 1s 4ms/step - loss: 0.2228 - acc: 0.9059 - val_loss: 0.2505 - val_acc: 0.8983\n",
      "Epoch 37/100\n",
      "147/147 [==============================] - 1s 4ms/step - loss: 0.2216 - acc: 0.9068 - val_loss: 0.2471 - val_acc: 0.9002\n",
      "Epoch 38/100\n",
      "147/147 [==============================] - 1s 4ms/step - loss: 0.2226 - acc: 0.9074 - val_loss: 0.2486 - val_acc: 0.8992\n",
      "Epoch 39/100\n",
      "147/147 [==============================] - 1s 4ms/step - loss: 0.2192 - acc: 0.9068 - val_loss: 0.2509 - val_acc: 0.8978\n",
      "Epoch 40/100\n",
      "147/147 [==============================] - 1s 4ms/step - loss: 0.2183 - acc: 0.9075 - val_loss: 0.2502 - val_acc: 0.8993\n",
      "Epoch 41/100\n",
      "147/147 [==============================] - 1s 4ms/step - loss: 0.2188 - acc: 0.9076 - val_loss: 0.2477 - val_acc: 0.8998\n",
      "Epoch 42/100\n",
      "147/147 [==============================] - 1s 4ms/step - loss: 0.2179 - acc: 0.9082 - val_loss: 0.2488 - val_acc: 0.8993\n",
      "Epoch 43/100\n",
      "147/147 [==============================] - 1s 4ms/step - loss: 0.2166 - acc: 0.9093 - val_loss: 0.2505 - val_acc: 0.8964\n",
      "Epoch 44/100\n",
      "147/147 [==============================] - 1s 4ms/step - loss: 0.2162 - acc: 0.9082 - val_loss: 0.2492 - val_acc: 0.8986\n",
      "Epoch 45/100\n",
      "147/147 [==============================] - 1s 4ms/step - loss: 0.2166 - acc: 0.9090 - val_loss: 0.2497 - val_acc: 0.8985\n",
      "Epoch 46/100\n",
      "147/147 [==============================] - 1s 4ms/step - loss: 0.2140 - acc: 0.9092 - val_loss: 0.2593 - val_acc: 0.8924\n",
      "Epoch 47/100\n",
      "147/147 [==============================] - 1s 4ms/step - loss: 0.2145 - acc: 0.9103 - val_loss: 0.2486 - val_acc: 0.8997\n",
      "Epoch 48/100\n",
      "147/147 [==============================] - 1s 4ms/step - loss: 0.2142 - acc: 0.9102 - val_loss: 0.2493 - val_acc: 0.8988\n",
      "Epoch 49/100\n",
      "147/147 [==============================] - 1s 4ms/step - loss: 0.2132 - acc: 0.9092 - val_loss: 0.2542 - val_acc: 0.8933\n",
      "Epoch 50/100\n",
      "147/147 [==============================] - 1s 4ms/step - loss: 0.2137 - acc: 0.9094 - val_loss: 0.2559 - val_acc: 0.8937\n",
      "Epoch 51/100\n",
      "147/147 [==============================] - 1s 4ms/step - loss: 0.2106 - acc: 0.9112 - val_loss: 0.2536 - val_acc: 0.8955\n",
      "Epoch 52/100\n",
      "147/147 [==============================] - 1s 4ms/step - loss: 0.2124 - acc: 0.9114 - val_loss: 0.2494 - val_acc: 0.8988\n",
      "Epoch 53/100\n",
      "147/147 [==============================] - 1s 4ms/step - loss: 0.2119 - acc: 0.9118 - val_loss: 0.2515 - val_acc: 0.8973\n",
      "Epoch 54/100\n",
      "147/147 [==============================] - 1s 4ms/step - loss: 0.2095 - acc: 0.9114 - val_loss: 0.2493 - val_acc: 0.8985\n",
      "Epoch 55/100\n",
      "147/147 [==============================] - 1s 4ms/step - loss: 0.2119 - acc: 0.9100 - val_loss: 0.2543 - val_acc: 0.8970\n",
      "Epoch 56/100\n",
      "147/147 [==============================] - 1s 4ms/step - loss: 0.2103 - acc: 0.9116 - val_loss: 0.2501 - val_acc: 0.9001\n",
      "Epoch 57/100\n",
      "147/147 [==============================] - 1s 4ms/step - loss: 0.2099 - acc: 0.9115 - val_loss: 0.2467 - val_acc: 0.9024\n",
      "Epoch 58/100\n",
      "147/147 [==============================] - 1s 4ms/step - loss: 0.2079 - acc: 0.9120 - val_loss: 0.2496 - val_acc: 0.9005\n",
      "Epoch 59/100\n",
      "147/147 [==============================] - 1s 4ms/step - loss: 0.2081 - acc: 0.9118 - val_loss: 0.2618 - val_acc: 0.8894\n",
      "Epoch 60/100\n",
      "147/147 [==============================] - 1s 4ms/step - loss: 0.2086 - acc: 0.9115 - val_loss: 0.2538 - val_acc: 0.8949\n",
      "Epoch 61/100\n",
      "147/147 [==============================] - 1s 4ms/step - loss: 0.2081 - acc: 0.9115 - val_loss: 0.2477 - val_acc: 0.9022\n",
      "Epoch 62/100\n"
     ]
    },
    {
     "name": "stdout",
     "output_type": "stream",
     "text": [
      "147/147 [==============================] - 1s 4ms/step - loss: 0.2088 - acc: 0.9121 - val_loss: 0.2532 - val_acc: 0.8971\n",
      "Epoch 63/100\n",
      "147/147 [==============================] - 1s 4ms/step - loss: 0.2069 - acc: 0.9113 - val_loss: 0.2475 - val_acc: 0.9012\n",
      "Epoch 64/100\n",
      "147/147 [==============================] - 1s 4ms/step - loss: 0.2060 - acc: 0.9123 - val_loss: 0.2546 - val_acc: 0.8968\n",
      "Epoch 65/100\n",
      "147/147 [==============================] - 1s 4ms/step - loss: 0.2066 - acc: 0.9121 - val_loss: 0.2459 - val_acc: 0.9032\n",
      "Epoch 66/100\n",
      "147/147 [==============================] - 1s 4ms/step - loss: 0.2063 - acc: 0.9133 - val_loss: 0.2519 - val_acc: 0.8992\n",
      "Epoch 67/100\n",
      "147/147 [==============================] - 1s 4ms/step - loss: 0.2058 - acc: 0.9130 - val_loss: 0.2579 - val_acc: 0.8924\n",
      "Epoch 68/100\n",
      "147/147 [==============================] - 1s 4ms/step - loss: 0.2072 - acc: 0.9136 - val_loss: 0.2538 - val_acc: 0.8979\n",
      "Epoch 69/100\n",
      "147/147 [==============================] - 1s 4ms/step - loss: 0.2064 - acc: 0.9112 - val_loss: 0.2515 - val_acc: 0.8992\n",
      "Epoch 70/100\n",
      "147/147 [==============================] - 1s 4ms/step - loss: 0.2049 - acc: 0.9134 - val_loss: 0.2478 - val_acc: 0.9024\n",
      "Epoch 71/100\n",
      "147/147 [==============================] - 1s 4ms/step - loss: 0.2058 - acc: 0.9135 - val_loss: 0.2616 - val_acc: 0.8932\n",
      "Epoch 72/100\n",
      "147/147 [==============================] - 1s 4ms/step - loss: 0.2038 - acc: 0.9121 - val_loss: 0.2560 - val_acc: 0.8972\n",
      "Epoch 73/100\n",
      "147/147 [==============================] - 1s 4ms/step - loss: 0.2029 - acc: 0.9154 - val_loss: 0.2522 - val_acc: 0.8967\n",
      "Epoch 74/100\n",
      "147/147 [==============================] - 1s 4ms/step - loss: 0.2040 - acc: 0.9138 - val_loss: 0.2530 - val_acc: 0.8985\n",
      "Epoch 75/100\n",
      "147/147 [==============================] - 1s 4ms/step - loss: 0.2031 - acc: 0.9136 - val_loss: 0.2576 - val_acc: 0.8937\n",
      "Epoch 76/100\n",
      "147/147 [==============================] - 1s 4ms/step - loss: 0.2028 - acc: 0.9153 - val_loss: 0.2602 - val_acc: 0.8939\n",
      "Epoch 77/100\n",
      "147/147 [==============================] - 1s 4ms/step - loss: 0.2025 - acc: 0.9157 - val_loss: 0.2612 - val_acc: 0.8913\n",
      "Epoch 78/100\n",
      "147/147 [==============================] - 1s 4ms/step - loss: 0.2014 - acc: 0.9156 - val_loss: 0.2574 - val_acc: 0.8944\n",
      "Epoch 79/100\n",
      "147/147 [==============================] - 1s 4ms/step - loss: 0.2016 - acc: 0.9133 - val_loss: 0.2627 - val_acc: 0.8912\n",
      "Epoch 80/100\n",
      "147/147 [==============================] - 1s 4ms/step - loss: 0.2003 - acc: 0.9146 - val_loss: 0.2531 - val_acc: 0.8978\n",
      "Epoch 81/100\n",
      "147/147 [==============================] - 1s 4ms/step - loss: 0.2010 - acc: 0.9147 - val_loss: 0.2534 - val_acc: 0.8997\n",
      "Epoch 82/100\n",
      "147/147 [==============================] - 1s 4ms/step - loss: 0.2003 - acc: 0.9152 - val_loss: 0.2587 - val_acc: 0.8934\n",
      "Epoch 83/100\n",
      "147/147 [==============================] - 1s 4ms/step - loss: 0.2016 - acc: 0.9131 - val_loss: 0.2687 - val_acc: 0.8883\n",
      "Epoch 84/100\n",
      "147/147 [==============================] - 1s 4ms/step - loss: 0.2022 - acc: 0.9155 - val_loss: 0.2523 - val_acc: 0.8994\n",
      "Epoch 85/100\n",
      "147/147 [==============================] - 1s 4ms/step - loss: 0.2014 - acc: 0.9145 - val_loss: 0.2529 - val_acc: 0.9000\n",
      "Epoch 86/100\n",
      "147/147 [==============================] - 1s 4ms/step - loss: 0.1994 - acc: 0.9148 - val_loss: 0.2607 - val_acc: 0.8922\n",
      "Epoch 87/100\n",
      "147/147 [==============================] - 1s 4ms/step - loss: 0.1996 - acc: 0.9163 - val_loss: 0.2583 - val_acc: 0.8952\n",
      "Epoch 88/100\n",
      "147/147 [==============================] - 1s 4ms/step - loss: 0.1991 - acc: 0.9152 - val_loss: 0.2578 - val_acc: 0.8951\n",
      "Epoch 89/100\n",
      "147/147 [==============================] - 1s 4ms/step - loss: 0.1997 - acc: 0.9154 - val_loss: 0.2547 - val_acc: 0.8978\n",
      "Epoch 90/100\n",
      "147/147 [==============================] - 1s 4ms/step - loss: 0.1993 - acc: 0.9159 - val_loss: 0.2607 - val_acc: 0.8923\n",
      "Epoch 91/100\n",
      "147/147 [==============================] - 1s 4ms/step - loss: 0.1988 - acc: 0.9143 - val_loss: 0.2611 - val_acc: 0.8924\n",
      "Epoch 92/100\n",
      "147/147 [==============================] - 1s 4ms/step - loss: 0.2002 - acc: 0.9149 - val_loss: 0.2592 - val_acc: 0.8962\n",
      "Epoch 93/100\n",
      "147/147 [==============================] - 1s 4ms/step - loss: 0.1988 - acc: 0.9166 - val_loss: 0.2551 - val_acc: 0.8970\n",
      "Epoch 94/100\n",
      "147/147 [==============================] - 1s 4ms/step - loss: 0.1999 - acc: 0.9145 - val_loss: 0.2596 - val_acc: 0.8923\n",
      "Epoch 95/100\n",
      "147/147 [==============================] - 1s 4ms/step - loss: 0.1976 - acc: 0.9160 - val_loss: 0.2615 - val_acc: 0.8945\n",
      "Epoch 96/100\n",
      "147/147 [==============================] - 1s 4ms/step - loss: 0.1993 - acc: 0.9157 - val_loss: 0.2537 - val_acc: 0.8986\n",
      "Epoch 97/100\n",
      "147/147 [==============================] - 1s 4ms/step - loss: 0.1973 - acc: 0.9164 - val_loss: 0.2656 - val_acc: 0.8901\n",
      "Epoch 98/100\n",
      "147/147 [==============================] - 1s 4ms/step - loss: 0.1996 - acc: 0.9148 - val_loss: 0.2546 - val_acc: 0.8994\n",
      "Epoch 99/100\n",
      "147/147 [==============================] - 1s 4ms/step - loss: 0.1963 - acc: 0.9171 - val_loss: 0.2754 - val_acc: 0.8828\n",
      "Epoch 100/100\n",
      "147/147 [==============================] - 1s 4ms/step - loss: 0.1980 - acc: 0.9153 - val_loss: 0.2684 - val_acc: 0.8884\n"
     ]
    }
   ],
   "source": [
    "callback = tf.keras.callbacks.EarlyStopping(monitor='loss', patience=10, restore_best_weights=True)\n",
    "history = model.fit(train_df_pca, y,\n",
    "                    batch_size = 128,\n",
    "                    validation_data=(test_df_pca, y_val),\n",
    "                    epochs=100\n",
    "                   )"
   ]
  },
  {
   "cell_type": "code",
   "execution_count": 98,
   "metadata": {
    "scrolled": false
   },
   "outputs": [
    {
     "name": "stdout",
     "output_type": "stream",
     "text": [
      "INFO:tensorflow:Assets written to: ../models/naive_no_wishbone_pca_final1/assets\n"
     ]
    },
    {
     "data": {
      "text/plain": [
       "'../models/naive_no_wishbone_pca_final1'"
      ]
     },
     "execution_count": 98,
     "metadata": {},
     "output_type": "execute_result"
    }
   ],
   "source": [
    "bnn.save_model(model, '../models/naive_no_wishbone_pca_final', history=history)"
   ]
  },
  {
   "cell_type": "code",
   "execution_count": null,
   "metadata": {},
   "outputs": [],
   "source": []
  },
  {
   "cell_type": "code",
   "execution_count": null,
   "metadata": {},
   "outputs": [],
   "source": []
  }
 ],
 "metadata": {
  "kernelspec": {
   "display_name": "Python 3",
   "language": "python",
   "name": "python3"
  },
  "language_info": {
   "codemirror_mode": {
    "name": "ipython",
    "version": 3
   },
   "file_extension": ".py",
   "mimetype": "text/x-python",
   "name": "python",
   "nbconvert_exporter": "python",
   "pygments_lexer": "ipython3",
   "version": "3.7.10"
  }
 },
 "nbformat": 4,
 "nbformat_minor": 4
}
