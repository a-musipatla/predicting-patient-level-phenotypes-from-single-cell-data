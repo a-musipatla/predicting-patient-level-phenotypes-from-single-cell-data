{
 "cells": [
  {
   "cell_type": "code",
   "execution_count": 1,
   "metadata": {},
   "outputs": [],
   "source": [
    "import numpy as np\n",
    "import pandas as pd"
   ]
  },
  {
   "cell_type": "code",
   "execution_count": 2,
   "metadata": {},
   "outputs": [],
   "source": [
    "import pandas as pd\n",
    "import numpy as np\n",
    "\n",
    "import sys\n",
    "sys.path.insert(1, 'dnn/')\n",
    "\n",
    "# del bnn\n",
    "import bcell_nn as bnn\n",
    "import bcell_plot\n",
    "import bcell_preprocess as bpreprocess\n",
    "# import bcell_driver\n",
    "\n",
    "# System arguments\n",
    "import argparse\n",
    "# data management\n",
    "import numpy as np\n",
    "import pandas as pd\n",
    "# visualization\n",
    "import matplotlib.pyplot as plt\n",
    "import seaborn as sns\n",
    "# flow cytometry libraries\n",
    "import cytoflow as flow\n",
    "# user defined functions\n",
    "\n",
    "from tensorflow import keras\n",
    "from tensorflow.keras import layers\n",
    "import tensorflow as tf"
   ]
  },
  {
   "cell_type": "code",
   "execution_count": 3,
   "metadata": {
    "scrolled": true
   },
   "outputs": [
    {
     "name": "stdout",
     "output_type": "stream",
     "text": [
      "[name: \"/device:CPU:0\"\n",
      "device_type: \"CPU\"\n",
      "memory_limit: 268435456\n",
      "locality {\n",
      "}\n",
      "incarnation: 12630782183149209809\n",
      ", name: \"/device:XLA_CPU:0\"\n",
      "device_type: \"XLA_CPU\"\n",
      "memory_limit: 17179869184\n",
      "locality {\n",
      "}\n",
      "incarnation: 8178714378970443712\n",
      "physical_device_desc: \"device: XLA_CPU device\"\n",
      ", name: \"/device:XLA_GPU:0\"\n",
      "device_type: \"XLA_GPU\"\n",
      "memory_limit: 17179869184\n",
      "locality {\n",
      "}\n",
      "incarnation: 4491425846570173769\n",
      "physical_device_desc: \"device: XLA_GPU device\"\n",
      ", name: \"/device:GPU:0\"\n",
      "device_type: \"GPU\"\n",
      "memory_limit: 10719745792\n",
      "locality {\n",
      "  bus_id: 1\n",
      "  links {\n",
      "  }\n",
      "}\n",
      "incarnation: 1238766978359951821\n",
      "physical_device_desc: \"device: 0, name: Tesla K80, pci bus id: 0000:00:04.0, compute capability: 3.7\"\n",
      "]\n"
     ]
    }
   ],
   "source": [
    "from tensorflow.python.client import device_lib\n",
    "print(device_lib.list_local_devices())"
   ]
  },
  {
   "cell_type": "code",
   "execution_count": 4,
   "metadata": {},
   "outputs": [],
   "source": [
    "# Read in signal data"
   ]
  },
  {
   "cell_type": "code",
   "execution_count": 5,
   "metadata": {},
   "outputs": [
    {
     "name": "stdout",
     "output_type": "stream",
     "text": [
      "(29702, 23)\n"
     ]
    }
   ],
   "source": [
    "df1 = pd.read_csv('../data/Bcell_signalling_proteins/matrix_basal_signalling_markers_#2.csv', index_col=0)\n",
    "df2 = pd.read_csv('../data/Bcell_signalling_proteins/matrix_bcr_signalling_markers_#2.csv', index_col=0)\n",
    "df1['bcr'] = 0\n",
    "df2['bcr'] = 1\n",
    "\n",
    "signal_df = pd.concat([df1, df2])\n",
    "signal_df.head()\n",
    "\n",
    "print(signal_df.shape)"
   ]
  },
  {
   "cell_type": "code",
   "execution_count": 6,
   "metadata": {},
   "outputs": [],
   "source": [
    "# read in surface data"
   ]
  },
  {
   "cell_type": "code",
   "execution_count": 7,
   "metadata": {},
   "outputs": [
    {
     "name": "stdout",
     "output_type": "stream",
     "text": [
      "(29702, 14)\n"
     ]
    }
   ],
   "source": [
    "df1 = pd.read_csv( '../data/Bcell_surface_marker/matrix_basal_surface_markers_#2.csv', index_col=0)\n",
    "df2 = pd.read_csv( '../data/Bcell_surface_marker/matrix_bcr_surface_markers_#2.csv', index_col=0)\n",
    "\n",
    "df1['bcr'] = 0\n",
    "df2['bcr'] = 1\n",
    "\n",
    "surface_df = pd.concat([df1, df2])\n",
    "surface_df.head()\n",
    "print(surface_df.shape)"
   ]
  },
  {
   "cell_type": "markdown",
   "metadata": {},
   "source": [
    "# train"
   ]
  },
  {
   "cell_type": "code",
   "execution_count": 8,
   "metadata": {},
   "outputs": [],
   "source": [
    "USE = 1\n",
    "VAL = 0.2\n",
    "TEST = 0.1\n",
    "\n",
    "SHAPE = [10, 8, 4]"
   ]
  },
  {
   "cell_type": "markdown",
   "metadata": {},
   "source": [
    "## Model that trains signalling"
   ]
  },
  {
   "cell_type": "code",
   "execution_count": 9,
   "metadata": {},
   "outputs": [],
   "source": [
    "# Use all data\n",
    "cyto_dataset = bpreprocess.df_to_train_tensor(signal_df, use=USE)\n",
    "train_dataset, val_dataset, test_dataset = bpreprocess.split_dataset(cyto_dataset, VAL, TEST)"
   ]
  },
  {
   "cell_type": "code",
   "execution_count": 10,
   "metadata": {
    "scrolled": true
   },
   "outputs": [
    {
     "name": "stdout",
     "output_type": "stream",
     "text": [
      "Epoch 1/50\n",
      "WARNING:tensorflow:Layer layer1 is casting an input tensor from dtype float64 to the layer's dtype of float32, which is new behavior in TensorFlow 2.  The layer has dtype float32 because its dtype defaults to floatx.\n",
      "\n",
      "If you intended to run this layer in float32, you can safely ignore this warning. If in doubt, this warning is likely only an issue if you are porting a TensorFlow 1.X model to TensorFlow 2.\n",
      "\n",
      "To change all layers to have dtype float64 by default, call `tf.keras.backend.set_floatx('float64')`. To change just this layer, pass dtype='float64' to the layer constructor. If you are the author of this layer, you can disable autocasting by passing autocast=False to the base Layer constructor.\n",
      "\n",
      "20868/20868 [==============================] - 68s 3ms/step - loss: 0.5665 - accuracy: 0.7385 - val_loss: 0.4177 - val_accuracy: 0.8120\n",
      "Epoch 2/50\n",
      "20868/20868 [==============================] - 67s 3ms/step - loss: 0.4233 - accuracy: 0.7846 - val_loss: 0.3847 - val_accuracy: 0.8253\n",
      "Epoch 3/50\n",
      "20868/20868 [==============================] - 67s 3ms/step - loss: 0.4032 - accuracy: 0.7962 - val_loss: 0.3676 - val_accuracy: 0.8277\n",
      "Epoch 4/50\n",
      "20868/20868 [==============================] - 66s 3ms/step - loss: 0.4016 - accuracy: 0.7948 - val_loss: 0.3942 - val_accuracy: 0.8068\n",
      "Epoch 5/50\n",
      "20868/20868 [==============================] - 66s 3ms/step - loss: 0.3958 - accuracy: 0.8168 - val_loss: 0.3658 - val_accuracy: 0.8341\n",
      "Epoch 6/50\n",
      "20868/20868 [==============================] - 65s 3ms/step - loss: 0.3827 - accuracy: 0.8311 - val_loss: 0.3484 - val_accuracy: 0.8358\n",
      "Epoch 7/50\n",
      "20868/20868 [==============================] - 66s 3ms/step - loss: 0.3835 - accuracy: 0.8307 - val_loss: 0.3529 - val_accuracy: 0.8410\n",
      "Epoch 8/50\n",
      "20868/20868 [==============================] - 65s 3ms/step - loss: 0.3793 - accuracy: 0.8329 - val_loss: 0.3505 - val_accuracy: 0.8464\n",
      "Epoch 9/50\n",
      "20868/20868 [==============================] - 65s 3ms/step - loss: 0.3754 - accuracy: 0.8316 - val_loss: 0.3515 - val_accuracy: 0.8253\n",
      "Epoch 10/50\n",
      "20868/20868 [==============================] - 65s 3ms/step - loss: 0.3733 - accuracy: 0.8335 - val_loss: 0.3612 - val_accuracy: 0.8392\n",
      "Epoch 11/50\n",
      "20868/20868 [==============================] - 65s 3ms/step - loss: 0.3767 - accuracy: 0.8312 - val_loss: 0.3543 - val_accuracy: 0.8406\n",
      "Epoch 12/50\n",
      "20868/20868 [==============================] - 65s 3ms/step - loss: 0.3676 - accuracy: 0.8398 - val_loss: 0.3435 - val_accuracy: 0.8453\n",
      "Epoch 13/50\n",
      "20868/20868 [==============================] - 64s 3ms/step - loss: 0.3739 - accuracy: 0.8344 - val_loss: 0.3478 - val_accuracy: 0.8419\n",
      "Epoch 14/50\n",
      "20868/20868 [==============================] - 65s 3ms/step - loss: 0.3649 - accuracy: 0.8374 - val_loss: 0.3484 - val_accuracy: 0.8451\n",
      "Epoch 15/50\n",
      "20868/20868 [==============================] - 64s 3ms/step - loss: 0.3712 - accuracy: 0.8391 - val_loss: 0.3522 - val_accuracy: 0.8403\n",
      "Epoch 16/50\n",
      "20868/20868 [==============================] - 64s 3ms/step - loss: 0.3713 - accuracy: 0.8387 - val_loss: 0.3361 - val_accuracy: 0.8521\n",
      "Epoch 17/50\n",
      "20868/20868 [==============================] - 65s 3ms/step - loss: 0.3712 - accuracy: 0.8387 - val_loss: 0.3456 - val_accuracy: 0.8544\n",
      "Epoch 18/50\n",
      "20868/20868 [==============================] - 64s 3ms/step - loss: 0.3660 - accuracy: 0.8414 - val_loss: 0.3333 - val_accuracy: 0.8525\n",
      "Epoch 19/50\n",
      "20868/20868 [==============================] - 64s 3ms/step - loss: 0.3684 - accuracy: 0.8420 - val_loss: 0.3504 - val_accuracy: 0.8433\n",
      "Epoch 20/50\n",
      "20868/20868 [==============================] - 64s 3ms/step - loss: 0.3641 - accuracy: 0.8444 - val_loss: 0.3365 - val_accuracy: 0.8534\n",
      "Epoch 21/50\n",
      "20868/20868 [==============================] - 64s 3ms/step - loss: 0.3641 - accuracy: 0.8409 - val_loss: 0.3428 - val_accuracy: 0.8397\n",
      "Epoch 22/50\n",
      "20868/20868 [==============================] - 64s 3ms/step - loss: 0.3641 - accuracy: 0.8438 - val_loss: 0.3434 - val_accuracy: 0.8455\n",
      "Epoch 23/50\n",
      "20868/20868 [==============================] - 64s 3ms/step - loss: 0.3682 - accuracy: 0.8392 - val_loss: 0.3309 - val_accuracy: 0.8559\n",
      "Epoch 24/50\n",
      "20868/20868 [==============================] - 64s 3ms/step - loss: 0.3575 - accuracy: 0.8460 - val_loss: 0.3330 - val_accuracy: 0.8485\n",
      "Epoch 25/50\n",
      "20868/20868 [==============================] - 64s 3ms/step - loss: 0.3593 - accuracy: 0.8449 - val_loss: 0.3444 - val_accuracy: 0.8527\n",
      "Epoch 26/50\n",
      "20868/20868 [==============================] - 64s 3ms/step - loss: 0.3554 - accuracy: 0.8475 - val_loss: 0.3484 - val_accuracy: 0.8442\n",
      "Epoch 27/50\n",
      "20868/20868 [==============================] - 65s 3ms/step - loss: 0.3616 - accuracy: 0.8467 - val_loss: 0.3378 - val_accuracy: 0.8521\n",
      "Epoch 28/50\n",
      "20868/20868 [==============================] - 64s 3ms/step - loss: 0.3616 - accuracy: 0.8474 - val_loss: 0.3443 - val_accuracy: 0.8579\n",
      "Epoch 29/50\n",
      "20868/20868 [==============================] - 64s 3ms/step - loss: 0.3590 - accuracy: 0.8455 - val_loss: 0.3222 - val_accuracy: 0.8600\n",
      "Epoch 30/50\n",
      "20868/20868 [==============================] - 64s 3ms/step - loss: 0.3595 - accuracy: 0.8452 - val_loss: 0.3342 - val_accuracy: 0.8571\n",
      "Epoch 31/50\n",
      "20868/20868 [==============================] - 64s 3ms/step - loss: 0.3598 - accuracy: 0.8467 - val_loss: 0.3470 - val_accuracy: 0.8534\n",
      "Epoch 32/50\n",
      "20868/20868 [==============================] - 64s 3ms/step - loss: 0.3619 - accuracy: 0.8477 - val_loss: 0.3425 - val_accuracy: 0.8521\n",
      "Epoch 33/50\n",
      "20868/20868 [==============================] - 64s 3ms/step - loss: 0.3620 - accuracy: 0.8462 - val_loss: 0.3333 - val_accuracy: 0.8518\n",
      "Epoch 34/50\n",
      "20868/20868 [==============================] - 64s 3ms/step - loss: 0.3576 - accuracy: 0.8471 - val_loss: 0.3305 - val_accuracy: 0.8570\n",
      "Epoch 35/50\n",
      "20868/20868 [==============================] - 64s 3ms/step - loss: 0.3561 - accuracy: 0.8485 - val_loss: 0.3208 - val_accuracy: 0.8600\n",
      "Epoch 36/50\n",
      "20868/20868 [==============================] - 64s 3ms/step - loss: 0.3522 - accuracy: 0.8524 - val_loss: 0.3295 - val_accuracy: 0.8561\n",
      "Epoch 37/50\n",
      "20868/20868 [==============================] - 64s 3ms/step - loss: 0.3639 - accuracy: 0.8442 - val_loss: 0.3462 - val_accuracy: 0.8512\n",
      "Epoch 38/50\n",
      "20868/20868 [==============================] - 64s 3ms/step - loss: 0.3569 - accuracy: 0.8462 - val_loss: 0.3319 - val_accuracy: 0.8570\n",
      "Epoch 39/50\n",
      "20868/20868 [==============================] - 64s 3ms/step - loss: 0.3534 - accuracy: 0.8485 - val_loss: 0.3525 - val_accuracy: 0.8564\n",
      "Epoch 40/50\n",
      "20868/20868 [==============================] - 64s 3ms/step - loss: 0.3587 - accuracy: 0.8478 - val_loss: 0.3352 - val_accuracy: 0.8518\n",
      "Epoch 41/50\n",
      "20868/20868 [==============================] - 65s 3ms/step - loss: 0.3529 - accuracy: 0.8494 - val_loss: 0.3218 - val_accuracy: 0.8616\n",
      "Epoch 42/50\n",
      "20868/20868 [==============================] - 64s 3ms/step - loss: 0.3560 - accuracy: 0.8468 - val_loss: 0.3331 - val_accuracy: 0.8589\n",
      "Epoch 43/50\n",
      "20868/20868 [==============================] - 64s 3ms/step - loss: 0.3530 - accuracy: 0.8502 - val_loss: 0.3279 - val_accuracy: 0.8589\n",
      "Epoch 44/50\n",
      "20868/20868 [==============================] - 64s 3ms/step - loss: 0.3494 - accuracy: 0.8495 - val_loss: 0.3181 - val_accuracy: 0.8622\n",
      "Epoch 45/50\n",
      "20868/20868 [==============================] - 64s 3ms/step - loss: 0.3515 - accuracy: 0.8534 - val_loss: 0.3418 - val_accuracy: 0.8557\n",
      "Epoch 46/50\n",
      "20868/20868 [==============================] - 65s 3ms/step - loss: 0.3506 - accuracy: 0.8509 - val_loss: 0.3313 - val_accuracy: 0.8600\n",
      "Epoch 47/50\n",
      "20868/20868 [==============================] - 64s 3ms/step - loss: 0.3556 - accuracy: 0.8493 - val_loss: 0.3319 - val_accuracy: 0.8557\n",
      "Epoch 48/50\n",
      "20868/20868 [==============================] - 64s 3ms/step - loss: 0.3546 - accuracy: 0.8484 - val_loss: 0.3184 - val_accuracy: 0.8616\n",
      "Epoch 49/50\n",
      "20868/20868 [==============================] - 64s 3ms/step - loss: 0.3521 - accuracy: 0.8515 - val_loss: 0.3387 - val_accuracy: 0.8550\n",
      "Epoch 50/50\n",
      "20868/20868 [==============================] - 64s 3ms/step - loss: 0.3494 - accuracy: 0.8503 - val_loss: 0.3280 - val_accuracy: 0.8607\n",
      "3269/3269 [==============================] - 7s 2ms/step - loss: 0.3374 - accuracy: 0.8559\n"
     ]
    }
   ],
   "source": [
    "model = bnn.define_model(shape=SHAPE, dropout=0.1)\n",
    "model, history = bnn.fit_model(model, train_dataset, val_dataset, train_dataset, batch_size=256, epochs=50, patience=10)\n",
    "score, acc = model.evaluate(test_dataset)"
   ]
  },
  {
   "cell_type": "code",
   "execution_count": 11,
   "metadata": {},
   "outputs": [
    {
     "name": "stdout",
     "output_type": "stream",
     "text": [
      "WARNING:tensorflow:From /home/xf2209/anaconda3/envs/ml-genomics/lib/python3.7/site-packages/tensorflow/python/training/tracking/tracking.py:111: Model.state_updates (from tensorflow.python.keras.engine.training) is deprecated and will be removed in a future version.\n",
      "Instructions for updating:\n",
      "This property should not be used in TensorFlow 2.0, as updates are applied automatically.\n",
      "WARNING:tensorflow:From /home/xf2209/anaconda3/envs/ml-genomics/lib/python3.7/site-packages/tensorflow/python/training/tracking/tracking.py:111: Layer.updates (from tensorflow.python.keras.engine.base_layer) is deprecated and will be removed in a future version.\n",
      "Instructions for updating:\n",
      "This property should not be used in TensorFlow 2.0, as updates are applied automatically.\n",
      "INFO:tensorflow:Assets written to: ../models/signalling_naive1/assets\n",
      "Model saved to:  ../models/signalling_naive1\n"
     ]
    }
   ],
   "source": [
    "# Save model\n",
    "model_filename = bnn.save_model(model, '../models/signalling_naive', history=history)\n",
    "print(\"Model saved to: \", model_filename)"
   ]
  },
  {
   "cell_type": "markdown",
   "metadata": {},
   "source": [
    "### Use only 152-Ki67, 169-pP38 and 171-pBtk/Itk"
   ]
  },
  {
   "cell_type": "code",
   "execution_count": 12,
   "metadata": {},
   "outputs": [],
   "source": [
    "# Use all data\n",
    "my_signal = signal_df.loc[:, ['152-Ki67', '169-pP38', '171-pBtk/Itk', 'bcr']]\n",
    "cyto_dataset = bpreprocess.df_to_train_tensor(my_signal)\n",
    "train_dataset, val_dataset, test_dataset = bpreprocess.split_dataset(cyto_dataset, VAL, TEST)"
   ]
  },
  {
   "cell_type": "code",
   "execution_count": 13,
   "metadata": {},
   "outputs": [
    {
     "name": "stdout",
     "output_type": "stream",
     "text": [
      "Epoch 1/50\n",
      "WARNING:tensorflow:Layer layer1 is casting an input tensor from dtype float64 to the layer's dtype of float32, which is new behavior in TensorFlow 2.  The layer has dtype float32 because its dtype defaults to floatx.\n",
      "\n",
      "If you intended to run this layer in float32, you can safely ignore this warning. If in doubt, this warning is likely only an issue if you are porting a TensorFlow 1.X model to TensorFlow 2.\n",
      "\n",
      "To change all layers to have dtype float64 by default, call `tf.keras.backend.set_floatx('float64')`. To change just this layer, pass dtype='float64' to the layer constructor. If you are the author of this layer, you can disable autocasting by passing autocast=False to the base Layer constructor.\n",
      "\n",
      "20868/20868 [==============================] - 65s 3ms/step - loss: 0.6983 - accuracy: 0.5276 - val_loss: 0.6916 - val_accuracy: 0.5278\n",
      "Epoch 2/50\n",
      "20868/20868 [==============================] - 65s 3ms/step - loss: 0.6958 - accuracy: 0.5240 - val_loss: 0.6931 - val_accuracy: 0.5166\n",
      "Epoch 3/50\n",
      "20868/20868 [==============================] - 64s 3ms/step - loss: 0.6916 - accuracy: 0.5299 - val_loss: 0.6915 - val_accuracy: 0.5265\n",
      "Epoch 4/50\n",
      "20868/20868 [==============================] - 64s 3ms/step - loss: 0.6927 - accuracy: 0.5286 - val_loss: 0.6923 - val_accuracy: 0.5240\n",
      "Epoch 5/50\n",
      "20868/20868 [==============================] - 64s 3ms/step - loss: 0.6940 - accuracy: 0.5302 - val_loss: 0.6921 - val_accuracy: 0.5254\n",
      "Epoch 6/50\n",
      "20868/20868 [==============================] - 64s 3ms/step - loss: 0.6963 - accuracy: 0.5302 - val_loss: 0.6905 - val_accuracy: 0.5362\n",
      "Epoch 7/50\n",
      "20868/20868 [==============================] - 64s 3ms/step - loss: 0.6937 - accuracy: 0.5314 - val_loss: 0.6921 - val_accuracy: 0.5270\n",
      "Epoch 8/50\n",
      "20868/20868 [==============================] - 64s 3ms/step - loss: 0.6923 - accuracy: 0.5277 - val_loss: 0.6928 - val_accuracy: 0.5217\n",
      "Epoch 9/50\n",
      "20868/20868 [==============================] - 64s 3ms/step - loss: 0.6928 - accuracy: 0.5295 - val_loss: 0.6914 - val_accuracy: 0.5321\n",
      "Epoch 10/50\n",
      "20868/20868 [==============================] - 65s 3ms/step - loss: 0.6948 - accuracy: 0.5289 - val_loss: 0.6916 - val_accuracy: 0.5258\n",
      "Epoch 11/50\n",
      "20868/20868 [==============================] - 64s 3ms/step - loss: 0.6924 - accuracy: 0.5253 - val_loss: 0.6915 - val_accuracy: 0.5314\n",
      "Epoch 12/50\n",
      "20868/20868 [==============================] - 64s 3ms/step - loss: 0.6924 - accuracy: 0.5296 - val_loss: 0.6913 - val_accuracy: 0.5267\n",
      "Epoch 13/50\n",
      "20868/20868 [==============================] - 64s 3ms/step - loss: 0.6950 - accuracy: 0.5275 - val_loss: 0.6898 - val_accuracy: 0.5384\n",
      "3269/3269 [==============================] - 7s 2ms/step - loss: 0.6924 - accuracy: 0.5197\n"
     ]
    }
   ],
   "source": [
    "model2 = bnn.define_model(shape=SHAPE, dropout=0.1)\n",
    "model2, history2 = bnn.fit_model(model2, train_dataset, val_dataset, train_dataset, batch_size=256, epochs=50, patience=10)\n",
    "score2, acc2 = model2.evaluate(test_dataset)"
   ]
  },
  {
   "cell_type": "code",
   "execution_count": 14,
   "metadata": {},
   "outputs": [
    {
     "name": "stdout",
     "output_type": "stream",
     "text": [
      "INFO:tensorflow:Assets written to: ../models/signalling_specific1/assets\n",
      "Model saved to:  ../models/signalling_specific1\n"
     ]
    }
   ],
   "source": [
    "# Save model\n",
    "model_filename = bnn.save_model(model2, '../models/signalling_specific', history=history2)\n",
    "print(\"Model saved to: \", model_filename)"
   ]
  },
  {
   "cell_type": "markdown",
   "metadata": {},
   "source": [
    "## Model that trains surface"
   ]
  },
  {
   "cell_type": "code",
   "execution_count": 15,
   "metadata": {},
   "outputs": [],
   "source": [
    "# Use all data\n",
    "cyto_dataset = bpreprocess.df_to_train_tensor(surface_df)\n",
    "train_dataset, val_dataset, test_dataset = bpreprocess.split_dataset(cyto_dataset, VAL, TEST)"
   ]
  },
  {
   "cell_type": "code",
   "execution_count": 16,
   "metadata": {},
   "outputs": [
    {
     "name": "stdout",
     "output_type": "stream",
     "text": [
      "Epoch 1/50\n",
      "WARNING:tensorflow:Layer layer1 is casting an input tensor from dtype float64 to the layer's dtype of float32, which is new behavior in TensorFlow 2.  The layer has dtype float32 because its dtype defaults to floatx.\n",
      "\n",
      "If you intended to run this layer in float32, you can safely ignore this warning. If in doubt, this warning is likely only an issue if you are porting a TensorFlow 1.X model to TensorFlow 2.\n",
      "\n",
      "To change all layers to have dtype float64 by default, call `tf.keras.backend.set_floatx('float64')`. To change just this layer, pass dtype='float64' to the layer constructor. If you are the author of this layer, you can disable autocasting by passing autocast=False to the base Layer constructor.\n",
      "\n",
      "20868/20868 [==============================] - 65s 3ms/step - loss: 0.5962 - accuracy: 0.6976 - val_loss: 0.5317 - val_accuracy: 0.7332\n",
      "Epoch 2/50\n",
      "20868/20868 [==============================] - 65s 3ms/step - loss: 0.5395 - accuracy: 0.7146 - val_loss: 0.5123 - val_accuracy: 0.7513\n",
      "Epoch 3/50\n",
      "20868/20868 [==============================] - 64s 3ms/step - loss: 0.5365 - accuracy: 0.7265 - val_loss: 0.5143 - val_accuracy: 0.7684\n",
      "Epoch 4/50\n",
      "20868/20868 [==============================] - 64s 3ms/step - loss: 0.5333 - accuracy: 0.7296 - val_loss: 0.5218 - val_accuracy: 0.7452\n",
      "Epoch 5/50\n",
      "20868/20868 [==============================] - 66s 3ms/step - loss: 0.5253 - accuracy: 0.7247 - val_loss: 0.5297 - val_accuracy: 0.7389\n",
      "Epoch 6/50\n",
      "20868/20868 [==============================] - 64s 3ms/step - loss: 0.5292 - accuracy: 0.7252 - val_loss: 0.5180 - val_accuracy: 0.7296\n",
      "Epoch 7/50\n",
      "20868/20868 [==============================] - 64s 3ms/step - loss: 0.5103 - accuracy: 0.7389 - val_loss: 0.4889 - val_accuracy: 0.7554\n",
      "Epoch 8/50\n",
      "20868/20868 [==============================] - 64s 3ms/step - loss: 0.5056 - accuracy: 0.7429 - val_loss: 0.4926 - val_accuracy: 0.7500\n",
      "Epoch 9/50\n",
      "20868/20868 [==============================] - 64s 3ms/step - loss: 0.5171 - accuracy: 0.7362 - val_loss: 0.4838 - val_accuracy: 0.7714\n",
      "Epoch 10/50\n",
      "20868/20868 [==============================] - 64s 3ms/step - loss: 0.5120 - accuracy: 0.7426 - val_loss: 0.4805 - val_accuracy: 0.7766\n",
      "Epoch 11/50\n",
      "20868/20868 [==============================] - 64s 3ms/step - loss: 0.5030 - accuracy: 0.7500 - val_loss: 0.5067 - val_accuracy: 0.7686\n",
      "Epoch 12/50\n",
      "20868/20868 [==============================] - 65s 3ms/step - loss: 0.5008 - accuracy: 0.7470 - val_loss: 0.4816 - val_accuracy: 0.7810\n",
      "Epoch 13/50\n",
      "20868/20868 [==============================] - 64s 3ms/step - loss: 0.5093 - accuracy: 0.7431 - val_loss: 0.4686 - val_accuracy: 0.7826\n",
      "Epoch 14/50\n",
      "20868/20868 [==============================] - 64s 3ms/step - loss: 0.5015 - accuracy: 0.7498 - val_loss: 0.4838 - val_accuracy: 0.7792\n",
      "Epoch 15/50\n",
      "20868/20868 [==============================] - 64s 3ms/step - loss: 0.5004 - accuracy: 0.7481 - val_loss: 0.4686 - val_accuracy: 0.7833\n",
      "Epoch 16/50\n",
      "20868/20868 [==============================] - 65s 3ms/step - loss: 0.5025 - accuracy: 0.7489 - val_loss: 0.4825 - val_accuracy: 0.7723\n",
      "Epoch 17/50\n",
      "20868/20868 [==============================] - 64s 3ms/step - loss: 0.4989 - accuracy: 0.7517 - val_loss: 0.4739 - val_accuracy: 0.7880\n",
      "Epoch 18/50\n",
      "20868/20868 [==============================] - 64s 3ms/step - loss: 0.4942 - accuracy: 0.7498 - val_loss: 0.4712 - val_accuracy: 0.7822\n",
      "Epoch 19/50\n",
      "20868/20868 [==============================] - 65s 3ms/step - loss: 0.4992 - accuracy: 0.7529 - val_loss: 0.4701 - val_accuracy: 0.7921\n",
      "Epoch 20/50\n",
      "20868/20868 [==============================] - 64s 3ms/step - loss: 0.5008 - accuracy: 0.7488 - val_loss: 0.4732 - val_accuracy: 0.7808\n",
      "Epoch 21/50\n",
      "20868/20868 [==============================] - 65s 3ms/step - loss: 0.4897 - accuracy: 0.7543 - val_loss: 0.4677 - val_accuracy: 0.7757\n",
      "Epoch 22/50\n",
      "20868/20868 [==============================] - 65s 3ms/step - loss: 0.4945 - accuracy: 0.7526 - val_loss: 0.4691 - val_accuracy: 0.7899\n",
      "Epoch 23/50\n",
      "20868/20868 [==============================] - 65s 3ms/step - loss: 0.4927 - accuracy: 0.7522 - val_loss: 0.4779 - val_accuracy: 0.7770\n",
      "Epoch 24/50\n",
      "20868/20868 [==============================] - 64s 3ms/step - loss: 0.4956 - accuracy: 0.7501 - val_loss: 0.4745 - val_accuracy: 0.7775\n",
      "Epoch 25/50\n",
      "20868/20868 [==============================] - 65s 3ms/step - loss: 0.4899 - accuracy: 0.7495 - val_loss: 0.4862 - val_accuracy: 0.7556\n",
      "Epoch 26/50\n",
      "20868/20868 [==============================] - 66s 3ms/step - loss: 0.4951 - accuracy: 0.7456 - val_loss: 0.4651 - val_accuracy: 0.7727\n",
      "Epoch 27/50\n",
      "20868/20868 [==============================] - 65s 3ms/step - loss: 0.4949 - accuracy: 0.7480 - val_loss: 0.4691 - val_accuracy: 0.7761\n",
      "Epoch 28/50\n",
      "20868/20868 [==============================] - 65s 3ms/step - loss: 0.4964 - accuracy: 0.7441 - val_loss: 0.5035 - val_accuracy: 0.7761\n",
      "Epoch 29/50\n",
      "20868/20868 [==============================] - 65s 3ms/step - loss: 0.4997 - accuracy: 0.7499 - val_loss: 0.4732 - val_accuracy: 0.7700\n",
      "Epoch 30/50\n",
      "20868/20868 [==============================] - 65s 3ms/step - loss: 0.4983 - accuracy: 0.7538 - val_loss: 0.4546 - val_accuracy: 0.7890\n",
      "Epoch 31/50\n",
      "20868/20868 [==============================] - 65s 3ms/step - loss: 0.4897 - accuracy: 0.7537 - val_loss: 0.4735 - val_accuracy: 0.7860\n",
      "3269/3269 [==============================] - 7s 2ms/step - loss: 0.4856 - accuracy: 0.7611\n"
     ]
    }
   ],
   "source": [
    "model = bnn.define_model(shape=SHAPE, dropout=0.1)\n",
    "model, history = bnn.fit_model(model, train_dataset, val_dataset, train_dataset, batch_size=256, epochs=50, patience=10)\n",
    "score, acc = model.evaluate(test_dataset)"
   ]
  },
  {
   "cell_type": "code",
   "execution_count": 17,
   "metadata": {},
   "outputs": [
    {
     "name": "stdout",
     "output_type": "stream",
     "text": [
      "INFO:tensorflow:Assets written to: ../models/surface_naive1/assets\n",
      "Model saved to:  ../models/surface_naive1\n"
     ]
    }
   ],
   "source": [
    "# Save model\n",
    "model_filename = bnn.save_model(model, '../models/surface_naive', history=history)\n",
    "print(\"Model saved to: \", model_filename)"
   ]
  },
  {
   "cell_type": "markdown",
   "metadata": {},
   "source": [
    "### Use only 152-Ki67, 169-pP38 and 171-pBtk/Itk"
   ]
  },
  {
   "cell_type": "code",
   "execution_count": 18,
   "metadata": {},
   "outputs": [],
   "source": [
    "# Use all data \n",
    "my_surface = surface_df.loc[:, ['167-CD38', '142-CD19', '147-CD20', '148-CD34', 'bcr']]\n",
    "cyto_dataset = bpreprocess.df_to_train_tensor(my_surface)\n",
    "train_dataset, val_dataset, test_dataset = bpreprocess.split_dataset(cyto_dataset, VAL, TEST)"
   ]
  },
  {
   "cell_type": "code",
   "execution_count": 19,
   "metadata": {},
   "outputs": [
    {
     "name": "stdout",
     "output_type": "stream",
     "text": [
      "Epoch 1/50\n",
      "WARNING:tensorflow:Layer layer1 is casting an input tensor from dtype float64 to the layer's dtype of float32, which is new behavior in TensorFlow 2.  The layer has dtype float32 because its dtype defaults to floatx.\n",
      "\n",
      "If you intended to run this layer in float32, you can safely ignore this warning. If in doubt, this warning is likely only an issue if you are porting a TensorFlow 1.X model to TensorFlow 2.\n",
      "\n",
      "To change all layers to have dtype float64 by default, call `tf.keras.backend.set_floatx('float64')`. To change just this layer, pass dtype='float64' to the layer constructor. If you are the author of this layer, you can disable autocasting by passing autocast=False to the base Layer constructor.\n",
      "\n",
      "20868/20868 [==============================] - 65s 3ms/step - loss: 0.7030 - accuracy: 0.5275 - val_loss: 0.6920 - val_accuracy: 0.5182\n",
      "Epoch 2/50\n",
      "20868/20868 [==============================] - 64s 3ms/step - loss: 0.6930 - accuracy: 0.5265 - val_loss: 0.6969 - val_accuracy: 0.5251\n",
      "Epoch 3/50\n",
      "20868/20868 [==============================] - 64s 3ms/step - loss: 0.7341 - accuracy: 0.5249 - val_loss: 0.6924 - val_accuracy: 0.5278\n",
      "Epoch 4/50\n",
      "20868/20868 [==============================] - 64s 3ms/step - loss: 0.6920 - accuracy: 0.5279 - val_loss: 0.6917 - val_accuracy: 0.5267\n",
      "Epoch 5/50\n",
      "20868/20868 [==============================] - 65s 3ms/step - loss: 0.6926 - accuracy: 0.5264 - val_loss: 0.6926 - val_accuracy: 0.5292\n",
      "Epoch 6/50\n",
      "20868/20868 [==============================] - 64s 3ms/step - loss: 0.6940 - accuracy: 0.5263 - val_loss: 0.6918 - val_accuracy: 0.5211\n",
      "Epoch 7/50\n",
      "20868/20868 [==============================] - 64s 3ms/step - loss: 0.6987 - accuracy: 0.5261 - val_loss: 0.6919 - val_accuracy: 0.5236\n",
      "Epoch 8/50\n",
      "20868/20868 [==============================] - 64s 3ms/step - loss: 0.6971 - accuracy: 0.5295 - val_loss: 0.6955 - val_accuracy: 0.5170\n",
      "Epoch 9/50\n",
      "20868/20868 [==============================] - 64s 3ms/step - loss: 0.6928 - accuracy: 0.5210 - val_loss: 0.6909 - val_accuracy: 0.5333\n",
      "Epoch 10/50\n",
      "20868/20868 [==============================] - 64s 3ms/step - loss: 0.6919 - accuracy: 0.5251 - val_loss: 0.6921 - val_accuracy: 0.5292\n",
      "Epoch 11/50\n",
      "20868/20868 [==============================] - 64s 3ms/step - loss: 0.6932 - accuracy: 0.5237 - val_loss: 0.6923 - val_accuracy: 0.5256\n",
      "Epoch 12/50\n",
      "20868/20868 [==============================] - 64s 3ms/step - loss: 0.6925 - accuracy: 0.5223 - val_loss: 0.6941 - val_accuracy: 0.5245\n",
      "Epoch 13/50\n",
      "20868/20868 [==============================] - 64s 3ms/step - loss: 0.6934 - accuracy: 0.5252 - val_loss: 0.6906 - val_accuracy: 0.5339\n",
      "Epoch 14/50\n",
      "20868/20868 [==============================] - 65s 3ms/step - loss: 0.6962 - accuracy: 0.5246 - val_loss: 0.6906 - val_accuracy: 0.5267\n",
      "Epoch 15/50\n",
      "20868/20868 [==============================] - 65s 3ms/step - loss: 0.6951 - accuracy: 0.5260 - val_loss: 0.6924 - val_accuracy: 0.5220\n",
      "Epoch 16/50\n",
      "20868/20868 [==============================] - 64s 3ms/step - loss: 0.6928 - accuracy: 0.5261 - val_loss: 0.6903 - val_accuracy: 0.5303\n",
      "Epoch 17/50\n",
      "20868/20868 [==============================] - 64s 3ms/step - loss: 0.6972 - accuracy: 0.5296 - val_loss: 0.6905 - val_accuracy: 0.5335\n",
      "Epoch 18/50\n",
      "20868/20868 [==============================] - 64s 3ms/step - loss: 0.7036 - accuracy: 0.5271 - val_loss: 0.6927 - val_accuracy: 0.5155\n",
      "Epoch 19/50\n",
      "20868/20868 [==============================] - 65s 3ms/step - loss: 0.6985 - accuracy: 0.5288 - val_loss: 0.6914 - val_accuracy: 0.5294\n",
      "Epoch 20/50\n",
      "20868/20868 [==============================] - 65s 3ms/step - loss: 0.7036 - accuracy: 0.5253 - val_loss: 0.6923 - val_accuracy: 0.5143\n",
      "3269/3269 [==============================] - 7s 2ms/step - loss: 0.6922 - accuracy: 0.5262\n"
     ]
    }
   ],
   "source": [
    "model2 = bnn.define_model(shape=SHAPE, dropout=0.1)\n",
    "model2, history2 = bnn.fit_model(model2, train_dataset, val_dataset, train_dataset, batch_size=256, epochs=50, patience=10)\n",
    "score2, acc2 = model2.evaluate(test_dataset)"
   ]
  },
  {
   "cell_type": "code",
   "execution_count": 20,
   "metadata": {},
   "outputs": [
    {
     "name": "stdout",
     "output_type": "stream",
     "text": [
      "INFO:tensorflow:Assets written to: ../models/surface_specific1/assets\n",
      "Model saved to:  ../models/surface_specific1\n"
     ]
    }
   ],
   "source": [
    "# Save model\n",
    "model_filename = bnn.save_model(model2, '../models/surface_specific', history=history2)\n",
    "print(\"Model saved to: \", model_filename)"
   ]
  },
  {
   "cell_type": "code",
   "execution_count": null,
   "metadata": {},
   "outputs": [],
   "source": []
  }
 ],
 "metadata": {
  "kernelspec": {
   "display_name": "Python 3",
   "language": "python",
   "name": "python3"
  },
  "language_info": {
   "codemirror_mode": {
    "name": "ipython",
    "version": 3
   },
   "file_extension": ".py",
   "mimetype": "text/x-python",
   "name": "python",
   "nbconvert_exporter": "python",
   "pygments_lexer": "ipython3",
   "version": "3.7.10"
  }
 },
 "nbformat": 4,
 "nbformat_minor": 4
}
